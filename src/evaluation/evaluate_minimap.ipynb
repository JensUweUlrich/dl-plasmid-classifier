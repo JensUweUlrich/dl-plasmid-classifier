{
 "cells": [
  {
   "cell_type": "code",
   "execution_count": 150,
   "outputs": [],
   "source": [
    "import pandas as pd\n",
    "\n",
    "from evaluation_helper import get_time_and_rss, get_max_gpu_usage"
   ],
   "metadata": {
    "collapsed": false
   }
  },
  {
   "cell_type": "code",
   "execution_count": 151,
   "outputs": [
    {
     "data": {
      "text/plain": "   Approach Dataset  Maximum Sequence Length User Time System Time  \\\n0     Guppy    real                     4000  00:21:22    00:02:49   \n1   Minimap    real                     4000  00:06:40    00:00:11   \n2     Guppy    real                     6000  00:19:23    00:02:40   \n3   Minimap    real                     6000  00:07:59    00:00:18   \n4     Guppy    real                     8000  00:18:41    00:02:32   \n5   Minimap    real                     8000  00:08:47    00:00:17   \n6     Guppy     sim                     4000  00:17:53    00:02:43   \n7   Minimap     sim                     4000  00:16:09    00:00:49   \n8     Guppy     sim                     6000  00:19:49    00:02:47   \n9   Minimap     sim                     6000  00:22:15    00:01:19   \n10    Guppy     sim                     8000  00:20:10    00:02:51   \n11  Minimap     sim                     8000  00:29:16    00:01:17   \n\n   Elapsed Time  Max RSS (GB)  Max GPU Memory Usage (GiB)  \n0      18:41.54      1.438256                    0.758789  \n1       3:56.30      2.609836                    0.000000  \n2      17:02.46      1.384120                    0.901367  \n3       4:36.10      2.807540                    0.000000  \n4      16:02.37      1.358204                    1.043945  \n5       5:05.99      2.928372                    0.000000  \n6      15:54.86      1.206684                    0.901367  \n7       8:46.95     25.171620                    0.000000  \n8      16:25.91      1.208464                    1.043945  \n9      11:18.31     25.694820                    0.000000  \n10     16:15.25      1.214396                    1.043945  \n11     14:08.13     25.713384                    0.000000  ",
      "text/html": "<div>\n<style scoped>\n    .dataframe tbody tr th:only-of-type {\n        vertical-align: middle;\n    }\n\n    .dataframe tbody tr th {\n        vertical-align: top;\n    }\n\n    .dataframe thead th {\n        text-align: right;\n    }\n</style>\n<table border=\"1\" class=\"dataframe\">\n  <thead>\n    <tr style=\"text-align: right;\">\n      <th></th>\n      <th>Approach</th>\n      <th>Dataset</th>\n      <th>Maximum Sequence Length</th>\n      <th>User Time</th>\n      <th>System Time</th>\n      <th>Elapsed Time</th>\n      <th>Max RSS (GB)</th>\n      <th>Max GPU Memory Usage (GiB)</th>\n    </tr>\n  </thead>\n  <tbody>\n    <tr>\n      <th>0</th>\n      <td>Guppy</td>\n      <td>real</td>\n      <td>4000</td>\n      <td>00:21:22</td>\n      <td>00:02:49</td>\n      <td>18:41.54</td>\n      <td>1.438256</td>\n      <td>0.758789</td>\n    </tr>\n    <tr>\n      <th>1</th>\n      <td>Minimap</td>\n      <td>real</td>\n      <td>4000</td>\n      <td>00:06:40</td>\n      <td>00:00:11</td>\n      <td>3:56.30</td>\n      <td>2.609836</td>\n      <td>0.000000</td>\n    </tr>\n    <tr>\n      <th>2</th>\n      <td>Guppy</td>\n      <td>real</td>\n      <td>6000</td>\n      <td>00:19:23</td>\n      <td>00:02:40</td>\n      <td>17:02.46</td>\n      <td>1.384120</td>\n      <td>0.901367</td>\n    </tr>\n    <tr>\n      <th>3</th>\n      <td>Minimap</td>\n      <td>real</td>\n      <td>6000</td>\n      <td>00:07:59</td>\n      <td>00:00:18</td>\n      <td>4:36.10</td>\n      <td>2.807540</td>\n      <td>0.000000</td>\n    </tr>\n    <tr>\n      <th>4</th>\n      <td>Guppy</td>\n      <td>real</td>\n      <td>8000</td>\n      <td>00:18:41</td>\n      <td>00:02:32</td>\n      <td>16:02.37</td>\n      <td>1.358204</td>\n      <td>1.043945</td>\n    </tr>\n    <tr>\n      <th>5</th>\n      <td>Minimap</td>\n      <td>real</td>\n      <td>8000</td>\n      <td>00:08:47</td>\n      <td>00:00:17</td>\n      <td>5:05.99</td>\n      <td>2.928372</td>\n      <td>0.000000</td>\n    </tr>\n    <tr>\n      <th>6</th>\n      <td>Guppy</td>\n      <td>sim</td>\n      <td>4000</td>\n      <td>00:17:53</td>\n      <td>00:02:43</td>\n      <td>15:54.86</td>\n      <td>1.206684</td>\n      <td>0.901367</td>\n    </tr>\n    <tr>\n      <th>7</th>\n      <td>Minimap</td>\n      <td>sim</td>\n      <td>4000</td>\n      <td>00:16:09</td>\n      <td>00:00:49</td>\n      <td>8:46.95</td>\n      <td>25.171620</td>\n      <td>0.000000</td>\n    </tr>\n    <tr>\n      <th>8</th>\n      <td>Guppy</td>\n      <td>sim</td>\n      <td>6000</td>\n      <td>00:19:49</td>\n      <td>00:02:47</td>\n      <td>16:25.91</td>\n      <td>1.208464</td>\n      <td>1.043945</td>\n    </tr>\n    <tr>\n      <th>9</th>\n      <td>Minimap</td>\n      <td>sim</td>\n      <td>6000</td>\n      <td>00:22:15</td>\n      <td>00:01:19</td>\n      <td>11:18.31</td>\n      <td>25.694820</td>\n      <td>0.000000</td>\n    </tr>\n    <tr>\n      <th>10</th>\n      <td>Guppy</td>\n      <td>sim</td>\n      <td>8000</td>\n      <td>00:20:10</td>\n      <td>00:02:51</td>\n      <td>16:15.25</td>\n      <td>1.214396</td>\n      <td>1.043945</td>\n    </tr>\n    <tr>\n      <th>11</th>\n      <td>Minimap</td>\n      <td>sim</td>\n      <td>8000</td>\n      <td>00:29:16</td>\n      <td>00:01:17</td>\n      <td>14:08.13</td>\n      <td>25.713384</td>\n      <td>0.000000</td>\n    </tr>\n  </tbody>\n</table>\n</div>"
     },
     "execution_count": 151,
     "metadata": {},
     "output_type": "execute_result"
    }
   ],
   "source": [
    "df = pd.DataFrame()\n",
    "for ds in ['real', 'sim']:\n",
    "    for mx in [4, 6, 8]:\n",
    "        # add guppy results\n",
    "        guppy_logfile_time = f'../../logs/guppy/step6c_basecall_{ds}_{mx}.txt'\n",
    "        guppy_logfile_nvidia = f'../../logs/guppy/step6c_basecall_{ds}_{mx}_gpu.txt'\n",
    "        g_user_time, g_system_time, g_elapsed_time, g_max_rss = get_time_and_rss(guppy_logfile_time)\n",
    "        max_gpu_usage = get_max_gpu_usage(guppy_logfile_nvidia, 'guppy_basecaller')\n",
    "        df = pd.concat([df, pd.DataFrame([{'Approach': 'Guppy',\n",
    "                                           'Dataset': ds,\n",
    "                                           'Maximum Sequence Length': mx * 1000,\n",
    "                                           'User Time': g_user_time,\n",
    "                                           'System Time': g_system_time,\n",
    "                                           'Elapsed Time': g_elapsed_time,\n",
    "                                           'Max RSS (GB)': g_max_rss,\n",
    "                                           'Max GPU Memory Usage (GiB)': max_gpu_usage}])],\n",
    "                       ignore_index=True)\n",
    "\n",
    "        # add minimap2 results\n",
    "        minimap_logfile_time = f'../../logs/minimap/step6e_map_{ds}_{mx}.txt'\n",
    "        m_user_time, m_system_time, m_elapsed_time, m_max_rss = get_time_and_rss(minimap_logfile_time)\n",
    "        df = pd.concat([df, pd.DataFrame([{'Approach': 'Minimap',\n",
    "                                           'Dataset': ds,\n",
    "                                           'Maximum Sequence Length': mx * 1000,\n",
    "                                           'User Time': m_user_time,\n",
    "                                           'System Time': m_system_time,\n",
    "                                           'Elapsed Time': m_elapsed_time,\n",
    "                                           'Max RSS (GB)': m_max_rss,\n",
    "                                           'Max GPU Memory Usage (GiB)': 0.0}])],\n",
    "                       ignore_index=True)\n",
    "df"
   ],
   "metadata": {
    "collapsed": false
   }
  },
  {
   "cell_type": "code",
   "execution_count": 152,
   "outputs": [
    {
     "name": "stdout",
     "output_type": "stream",
     "text": [
      "<class 'pandas.core.frame.DataFrame'>\n",
      "RangeIndex: 12 entries, 0 to 11\n",
      "Data columns (total 8 columns):\n",
      " #   Column                      Non-Null Count  Dtype          \n",
      "---  ------                      --------------  -----          \n",
      " 0   Approach                    12 non-null     object         \n",
      " 1   Dataset                     12 non-null     object         \n",
      " 2   Maximum Sequence Length     12 non-null     int64          \n",
      " 3   User Time                   12 non-null     timedelta64[ns]\n",
      " 4   System Time                 12 non-null     timedelta64[ns]\n",
      " 5   Elapsed Time                12 non-null     timedelta64[ns]\n",
      " 6   Max RSS (GB)                12 non-null     float64        \n",
      " 7   Max GPU Memory Usage (GiB)  12 non-null     float64        \n",
      "dtypes: float64(2), int64(1), object(2), timedelta64[ns](3)\n",
      "memory usage: 896.0+ bytes\n"
     ]
    }
   ],
   "source": [
    "df['User Time'] = pd.to_timedelta(df['User Time'])\n",
    "df['System Time'] = pd.to_timedelta(df['System Time'])\n",
    "df['Elapsed Time'] = '00:' + df['Elapsed Time']\n",
    "df['Elapsed Time'] = pd.to_timedelta(df['Elapsed Time'])\n",
    "df.info()"
   ],
   "metadata": {
    "collapsed": false
   }
  },
  {
   "cell_type": "code",
   "execution_count": 153,
   "outputs": [
    {
     "name": "stderr",
     "output_type": "stream",
     "text": [
      "/var/folders/80/x5__vg0d7wb7pbgpqffkfpjc0000gn/T/ipykernel_66840/133134580.py:1: FutureWarning: Indexing with multiple keys (implicitly converted to a tuple of keys) will be deprecated, use a list instead.\n",
      "  summed_measures = df.groupby(['Dataset', 'Maximum Sequence Length'])['User Time', 'System Time', 'Elapsed Time', 'Max RSS (GB)', 'Max GPU Memory Usage (GiB)'].apply(lambda x : x.sum())\n"
     ]
    },
    {
     "data": {
      "text/plain": "           Approach Dataset  Maximum Sequence Length       User Time  \\\n0             Guppy    real                     4000 0 days 00:21:22   \n1           Minimap    real                     4000 0 days 00:06:40   \n2             Guppy    real                     6000 0 days 00:19:23   \n3           Minimap    real                     6000 0 days 00:07:59   \n4             Guppy    real                     8000 0 days 00:18:41   \n5           Minimap    real                     8000 0 days 00:08:47   \n6             Guppy     sim                     4000 0 days 00:17:53   \n7           Minimap     sim                     4000 0 days 00:16:09   \n8             Guppy     sim                     6000 0 days 00:19:49   \n9           Minimap     sim                     6000 0 days 00:22:15   \n10            Guppy     sim                     8000 0 days 00:20:10   \n11          Minimap     sim                     8000 0 days 00:29:16   \n12  Guppy + Minimap    real                     4000 0 days 00:28:02   \n13  Guppy + Minimap    real                     6000 0 days 00:27:22   \n14  Guppy + Minimap    real                     8000 0 days 00:27:28   \n15  Guppy + Minimap     sim                     4000 0 days 00:34:02   \n16  Guppy + Minimap     sim                     6000 0 days 00:42:04   \n17  Guppy + Minimap     sim                     8000 0 days 00:49:26   \n\n       System Time           Elapsed Time  Max RSS (GB)  \\\n0  0 days 00:02:49 0 days 00:18:41.540000      1.438256   \n1  0 days 00:00:11 0 days 00:03:56.300000      2.609836   \n2  0 days 00:02:40 0 days 00:17:02.460000      1.384120   \n3  0 days 00:00:18 0 days 00:04:36.100000      2.807540   \n4  0 days 00:02:32 0 days 00:16:02.370000      1.358204   \n5  0 days 00:00:17 0 days 00:05:05.990000      2.928372   \n6  0 days 00:02:43 0 days 00:15:54.860000      1.206684   \n7  0 days 00:00:49 0 days 00:08:46.950000     25.171620   \n8  0 days 00:02:47 0 days 00:16:25.910000      1.208464   \n9  0 days 00:01:19 0 days 00:11:18.310000     25.694820   \n10 0 days 00:02:51 0 days 00:16:15.250000      1.214396   \n11 0 days 00:01:17 0 days 00:14:08.130000     25.713384   \n12 0 days 00:03:00 0 days 00:22:37.840000      4.048092   \n13 0 days 00:02:58 0 days 00:21:38.560000      4.191660   \n14 0 days 00:02:49 0 days 00:21:08.360000      4.286576   \n15 0 days 00:03:32 0 days 00:24:41.810000     26.378304   \n16 0 days 00:04:06 0 days 00:27:44.220000     26.903284   \n17 0 days 00:04:08 0 days 00:30:23.380000     26.927780   \n\n    Max GPU Memory Usage (GiB)  \n0                     0.758789  \n1                     0.000000  \n2                     0.901367  \n3                     0.000000  \n4                     1.043945  \n5                     0.000000  \n6                     0.901367  \n7                     0.000000  \n8                     1.043945  \n9                     0.000000  \n10                    1.043945  \n11                    0.000000  \n12                    0.758789  \n13                    0.901367  \n14                    1.043945  \n15                    0.901367  \n16                    1.043945  \n17                    1.043945  ",
      "text/html": "<div>\n<style scoped>\n    .dataframe tbody tr th:only-of-type {\n        vertical-align: middle;\n    }\n\n    .dataframe tbody tr th {\n        vertical-align: top;\n    }\n\n    .dataframe thead th {\n        text-align: right;\n    }\n</style>\n<table border=\"1\" class=\"dataframe\">\n  <thead>\n    <tr style=\"text-align: right;\">\n      <th></th>\n      <th>Approach</th>\n      <th>Dataset</th>\n      <th>Maximum Sequence Length</th>\n      <th>User Time</th>\n      <th>System Time</th>\n      <th>Elapsed Time</th>\n      <th>Max RSS (GB)</th>\n      <th>Max GPU Memory Usage (GiB)</th>\n    </tr>\n  </thead>\n  <tbody>\n    <tr>\n      <th>0</th>\n      <td>Guppy</td>\n      <td>real</td>\n      <td>4000</td>\n      <td>0 days 00:21:22</td>\n      <td>0 days 00:02:49</td>\n      <td>0 days 00:18:41.540000</td>\n      <td>1.438256</td>\n      <td>0.758789</td>\n    </tr>\n    <tr>\n      <th>1</th>\n      <td>Minimap</td>\n      <td>real</td>\n      <td>4000</td>\n      <td>0 days 00:06:40</td>\n      <td>0 days 00:00:11</td>\n      <td>0 days 00:03:56.300000</td>\n      <td>2.609836</td>\n      <td>0.000000</td>\n    </tr>\n    <tr>\n      <th>2</th>\n      <td>Guppy</td>\n      <td>real</td>\n      <td>6000</td>\n      <td>0 days 00:19:23</td>\n      <td>0 days 00:02:40</td>\n      <td>0 days 00:17:02.460000</td>\n      <td>1.384120</td>\n      <td>0.901367</td>\n    </tr>\n    <tr>\n      <th>3</th>\n      <td>Minimap</td>\n      <td>real</td>\n      <td>6000</td>\n      <td>0 days 00:07:59</td>\n      <td>0 days 00:00:18</td>\n      <td>0 days 00:04:36.100000</td>\n      <td>2.807540</td>\n      <td>0.000000</td>\n    </tr>\n    <tr>\n      <th>4</th>\n      <td>Guppy</td>\n      <td>real</td>\n      <td>8000</td>\n      <td>0 days 00:18:41</td>\n      <td>0 days 00:02:32</td>\n      <td>0 days 00:16:02.370000</td>\n      <td>1.358204</td>\n      <td>1.043945</td>\n    </tr>\n    <tr>\n      <th>5</th>\n      <td>Minimap</td>\n      <td>real</td>\n      <td>8000</td>\n      <td>0 days 00:08:47</td>\n      <td>0 days 00:00:17</td>\n      <td>0 days 00:05:05.990000</td>\n      <td>2.928372</td>\n      <td>0.000000</td>\n    </tr>\n    <tr>\n      <th>6</th>\n      <td>Guppy</td>\n      <td>sim</td>\n      <td>4000</td>\n      <td>0 days 00:17:53</td>\n      <td>0 days 00:02:43</td>\n      <td>0 days 00:15:54.860000</td>\n      <td>1.206684</td>\n      <td>0.901367</td>\n    </tr>\n    <tr>\n      <th>7</th>\n      <td>Minimap</td>\n      <td>sim</td>\n      <td>4000</td>\n      <td>0 days 00:16:09</td>\n      <td>0 days 00:00:49</td>\n      <td>0 days 00:08:46.950000</td>\n      <td>25.171620</td>\n      <td>0.000000</td>\n    </tr>\n    <tr>\n      <th>8</th>\n      <td>Guppy</td>\n      <td>sim</td>\n      <td>6000</td>\n      <td>0 days 00:19:49</td>\n      <td>0 days 00:02:47</td>\n      <td>0 days 00:16:25.910000</td>\n      <td>1.208464</td>\n      <td>1.043945</td>\n    </tr>\n    <tr>\n      <th>9</th>\n      <td>Minimap</td>\n      <td>sim</td>\n      <td>6000</td>\n      <td>0 days 00:22:15</td>\n      <td>0 days 00:01:19</td>\n      <td>0 days 00:11:18.310000</td>\n      <td>25.694820</td>\n      <td>0.000000</td>\n    </tr>\n    <tr>\n      <th>10</th>\n      <td>Guppy</td>\n      <td>sim</td>\n      <td>8000</td>\n      <td>0 days 00:20:10</td>\n      <td>0 days 00:02:51</td>\n      <td>0 days 00:16:15.250000</td>\n      <td>1.214396</td>\n      <td>1.043945</td>\n    </tr>\n    <tr>\n      <th>11</th>\n      <td>Minimap</td>\n      <td>sim</td>\n      <td>8000</td>\n      <td>0 days 00:29:16</td>\n      <td>0 days 00:01:17</td>\n      <td>0 days 00:14:08.130000</td>\n      <td>25.713384</td>\n      <td>0.000000</td>\n    </tr>\n    <tr>\n      <th>12</th>\n      <td>Guppy + Minimap</td>\n      <td>real</td>\n      <td>4000</td>\n      <td>0 days 00:28:02</td>\n      <td>0 days 00:03:00</td>\n      <td>0 days 00:22:37.840000</td>\n      <td>4.048092</td>\n      <td>0.758789</td>\n    </tr>\n    <tr>\n      <th>13</th>\n      <td>Guppy + Minimap</td>\n      <td>real</td>\n      <td>6000</td>\n      <td>0 days 00:27:22</td>\n      <td>0 days 00:02:58</td>\n      <td>0 days 00:21:38.560000</td>\n      <td>4.191660</td>\n      <td>0.901367</td>\n    </tr>\n    <tr>\n      <th>14</th>\n      <td>Guppy + Minimap</td>\n      <td>real</td>\n      <td>8000</td>\n      <td>0 days 00:27:28</td>\n      <td>0 days 00:02:49</td>\n      <td>0 days 00:21:08.360000</td>\n      <td>4.286576</td>\n      <td>1.043945</td>\n    </tr>\n    <tr>\n      <th>15</th>\n      <td>Guppy + Minimap</td>\n      <td>sim</td>\n      <td>4000</td>\n      <td>0 days 00:34:02</td>\n      <td>0 days 00:03:32</td>\n      <td>0 days 00:24:41.810000</td>\n      <td>26.378304</td>\n      <td>0.901367</td>\n    </tr>\n    <tr>\n      <th>16</th>\n      <td>Guppy + Minimap</td>\n      <td>sim</td>\n      <td>6000</td>\n      <td>0 days 00:42:04</td>\n      <td>0 days 00:04:06</td>\n      <td>0 days 00:27:44.220000</td>\n      <td>26.903284</td>\n      <td>1.043945</td>\n    </tr>\n    <tr>\n      <th>17</th>\n      <td>Guppy + Minimap</td>\n      <td>sim</td>\n      <td>8000</td>\n      <td>0 days 00:49:26</td>\n      <td>0 days 00:04:08</td>\n      <td>0 days 00:30:23.380000</td>\n      <td>26.927780</td>\n      <td>1.043945</td>\n    </tr>\n  </tbody>\n</table>\n</div>"
     },
     "execution_count": 153,
     "metadata": {},
     "output_type": "execute_result"
    }
   ],
   "source": [
    "summed_measures = df.groupby(['Dataset', 'Maximum Sequence Length'])['User Time', 'System Time', 'Elapsed Time', 'Max RSS (GB)', 'Max GPU Memory Usage (GiB)'].apply(lambda x : x.sum())\n",
    "summed_measures = summed_measures.reset_index()\n",
    "summed_measures['Approach'] = 'Guppy + Minimap'\n",
    "df = pd.concat([df, summed_measures], ignore_index=True)\n",
    "df"
   ],
   "metadata": {
    "collapsed": false
   }
  },
  {
   "cell_type": "code",
   "execution_count": 154,
   "outputs": [],
   "source": [
    "# TODO: eval BAM (interpret unclassified as errors, search for unmapped read IDs & duplicated mappings between BAMs) -> balancedAccuracy, TNR, TPR"
   ],
   "metadata": {
    "collapsed": false
   }
  },
  {
   "cell_type": "code",
   "execution_count": 155,
   "outputs": [],
   "source": [
    "# TODO: plot metrics"
   ],
   "metadata": {
    "collapsed": false
   }
  }
 ],
 "metadata": {
  "kernelspec": {
   "display_name": "Python 3",
   "language": "python",
   "name": "python3"
  },
  "language_info": {
   "codemirror_mode": {
    "name": "ipython",
    "version": 2
   },
   "file_extension": ".py",
   "mimetype": "text/x-python",
   "name": "python",
   "nbconvert_exporter": "python",
   "pygments_lexer": "ipython2",
   "version": "2.7.6"
  }
 },
 "nbformat": 4,
 "nbformat_minor": 0
}
