{
 "cells": [
  {
   "cell_type": "markdown",
   "source": [
    "# Update RDS file of Negative References\n",
    "\n",
    "**Note 1:** You need to get ``old_rds_sizes_path`` file from server beforehand (includes calculated genome sizes after cleaning) and adjust the filepaths below. If genbank is already downloaded, set ``genbank_exists`` to ``True``.\n",
    "\n",
    "**Note 2:** This notebook will be moved to ``prepare_input.py`` in an adapted version."
   ],
   "metadata": {
    "collapsed": false,
    "pycharm": {
     "name": "#%% md\n"
    }
   }
  },
  {
   "cell_type": "code",
   "execution_count": 1,
   "outputs": [],
   "source": [
    "genbank_exists = True\n",
    "\n",
    "genbank_path = '../data/simulation/assembly_summary_genbank_281120222.txt'\n",
    "old_rds_sizes_path = '../data/simulation/metadata_neg_ref_sizes.rds'  #  from /hpi/fs00/share/fg/renard/nina.ihde/data/simulation/metadata_neg_ref_sizes.rds\n",
    "old_rds_path = '../data/simulation/IMG_1_folds_170418_sizes.rds'\n",
    "new_rds_path = '../data/simulation/IMG_1_folds_170418_sizes_updated.rds'"
   ],
   "metadata": {
    "collapsed": false,
    "pycharm": {
     "name": "#%%\n"
    }
   }
  },
  {
   "cell_type": "code",
   "execution_count": 2,
   "outputs": [
    {
     "data": {
      "text/plain": "          bioproject assembly_accession    taxid  species_taxid  \\\nrownames                                                          \n1         PRJNA16421    GCA_000009245.1   376619            263   \n2         PRJNA62415    GCA_000248335.2   981326          48296   \n3         PRJNA81141    GCA_000252915.3  1134455            571   \n4         PRJNA68097    GCA_000219275.1  1046625          28090   \n5         PRJNA46457    GCA_000875755.1   743967          51365   \n\n                                         organism_name  \\\nrownames                                                 \n1         Francisella tularensis subsp. holarctica LVS   \n2                       Acinetobacter pittii DSM 21653   \n3                           Klebsiella oxytoca 11492-1   \n4                        Acinetobacter lwoffii WJ10621   \n5                            Mycoplasma yeatsii GM274B   \n\n                                      organism_name.gb infraspecific_name  \\\nrownames                                                                    \n1         Francisella tularensis subsp. holarctica LVS         strain=LVS   \n2                       Acinetobacter pittii DSM 21653   strain=DSM 21653   \n3                           Klebsiella oxytoca 11492-1     strain=11492-1   \n4                        Acinetobacter lwoffii WJ10621     strain=WJ10621   \n5                            Mycoplasma yeatsii GM274B      strain=GM274B   \n\n         version_status   assembly_level seq_rel_date  ... IMG.Genome.ID  \\\nrownames                                               ...                 \n1                latest  Complete Genome   2006-03-02  ...  6.370001e+08   \n2                latest           Contig   2012-02-21  ...  2.547132e+09   \n3                latest           Contig   2012-03-16  ...  2.548877e+09   \n4                latest       Chromosome   2011-06-27  ...  2.547132e+09   \n5                latest  Complete Genome   2015-02-13  ...  2.630968e+09   \n\n         NCBI.Bioproject.Accession                 Species     Strain  \\\nrownames                                                                \n1                       PRJNA16421  Francisella tularensis        LVS   \n2                       PRJNA62415    Acinetobacter pittii  DSM 21653   \n3                       PRJNA81141      Klebsiella oxytoca    11492-1   \n4                       PRJNA68097   Acinetobacter lwoffii    WJ10621   \n5                       PRJNA46457      Mycoplasma yeatsii     GM274B   \n\n                         Genome.Name...Sample.Name    Add.Date Pathogenic  \\\nrownames                                                                    \n1            Francisella tularensis holarctica LVS  2006-10-02      False   \n2         Acinetobacter genomospecies 3, DSM 21653  2013-11-27      False   \n3                       Klebsiella oxytoca 11492-1  2013-12-05      False   \n4                    Acinetobacter lwoffii WJ10621  2013-11-27      False   \n5                        Mycoplasma yeatsii GM274B  2015-09-21      False   \n\n          fold1    subset  Genome.Size  \nrownames                                \n1         train  selected    1895994.0  \n2         train  selected    3746320.0  \n3         train  selected    6166501.0  \n4         train  selected    3184320.0  \n5         train  selected     895051.0  \n\n[5 rows x 23 columns]",
      "text/html": "<div>\n<style scoped>\n    .dataframe tbody tr th:only-of-type {\n        vertical-align: middle;\n    }\n\n    .dataframe tbody tr th {\n        vertical-align: top;\n    }\n\n    .dataframe thead th {\n        text-align: right;\n    }\n</style>\n<table border=\"1\" class=\"dataframe\">\n  <thead>\n    <tr style=\"text-align: right;\">\n      <th></th>\n      <th>bioproject</th>\n      <th>assembly_accession</th>\n      <th>taxid</th>\n      <th>species_taxid</th>\n      <th>organism_name</th>\n      <th>organism_name.gb</th>\n      <th>infraspecific_name</th>\n      <th>version_status</th>\n      <th>assembly_level</th>\n      <th>seq_rel_date</th>\n      <th>...</th>\n      <th>IMG.Genome.ID</th>\n      <th>NCBI.Bioproject.Accession</th>\n      <th>Species</th>\n      <th>Strain</th>\n      <th>Genome.Name...Sample.Name</th>\n      <th>Add.Date</th>\n      <th>Pathogenic</th>\n      <th>fold1</th>\n      <th>subset</th>\n      <th>Genome.Size</th>\n    </tr>\n    <tr>\n      <th>rownames</th>\n      <th></th>\n      <th></th>\n      <th></th>\n      <th></th>\n      <th></th>\n      <th></th>\n      <th></th>\n      <th></th>\n      <th></th>\n      <th></th>\n      <th></th>\n      <th></th>\n      <th></th>\n      <th></th>\n      <th></th>\n      <th></th>\n      <th></th>\n      <th></th>\n      <th></th>\n      <th></th>\n      <th></th>\n    </tr>\n  </thead>\n  <tbody>\n    <tr>\n      <th>1</th>\n      <td>PRJNA16421</td>\n      <td>GCA_000009245.1</td>\n      <td>376619</td>\n      <td>263</td>\n      <td>Francisella tularensis subsp. holarctica LVS</td>\n      <td>Francisella tularensis subsp. holarctica LVS</td>\n      <td>strain=LVS</td>\n      <td>latest</td>\n      <td>Complete Genome</td>\n      <td>2006-03-02</td>\n      <td>...</td>\n      <td>6.370001e+08</td>\n      <td>PRJNA16421</td>\n      <td>Francisella tularensis</td>\n      <td>LVS</td>\n      <td>Francisella tularensis holarctica LVS</td>\n      <td>2006-10-02</td>\n      <td>False</td>\n      <td>train</td>\n      <td>selected</td>\n      <td>1895994.0</td>\n    </tr>\n    <tr>\n      <th>2</th>\n      <td>PRJNA62415</td>\n      <td>GCA_000248335.2</td>\n      <td>981326</td>\n      <td>48296</td>\n      <td>Acinetobacter pittii DSM 21653</td>\n      <td>Acinetobacter pittii DSM 21653</td>\n      <td>strain=DSM 21653</td>\n      <td>latest</td>\n      <td>Contig</td>\n      <td>2012-02-21</td>\n      <td>...</td>\n      <td>2.547132e+09</td>\n      <td>PRJNA62415</td>\n      <td>Acinetobacter pittii</td>\n      <td>DSM 21653</td>\n      <td>Acinetobacter genomospecies 3, DSM 21653</td>\n      <td>2013-11-27</td>\n      <td>False</td>\n      <td>train</td>\n      <td>selected</td>\n      <td>3746320.0</td>\n    </tr>\n    <tr>\n      <th>3</th>\n      <td>PRJNA81141</td>\n      <td>GCA_000252915.3</td>\n      <td>1134455</td>\n      <td>571</td>\n      <td>Klebsiella oxytoca 11492-1</td>\n      <td>Klebsiella oxytoca 11492-1</td>\n      <td>strain=11492-1</td>\n      <td>latest</td>\n      <td>Contig</td>\n      <td>2012-03-16</td>\n      <td>...</td>\n      <td>2.548877e+09</td>\n      <td>PRJNA81141</td>\n      <td>Klebsiella oxytoca</td>\n      <td>11492-1</td>\n      <td>Klebsiella oxytoca 11492-1</td>\n      <td>2013-12-05</td>\n      <td>False</td>\n      <td>train</td>\n      <td>selected</td>\n      <td>6166501.0</td>\n    </tr>\n    <tr>\n      <th>4</th>\n      <td>PRJNA68097</td>\n      <td>GCA_000219275.1</td>\n      <td>1046625</td>\n      <td>28090</td>\n      <td>Acinetobacter lwoffii WJ10621</td>\n      <td>Acinetobacter lwoffii WJ10621</td>\n      <td>strain=WJ10621</td>\n      <td>latest</td>\n      <td>Chromosome</td>\n      <td>2011-06-27</td>\n      <td>...</td>\n      <td>2.547132e+09</td>\n      <td>PRJNA68097</td>\n      <td>Acinetobacter lwoffii</td>\n      <td>WJ10621</td>\n      <td>Acinetobacter lwoffii WJ10621</td>\n      <td>2013-11-27</td>\n      <td>False</td>\n      <td>train</td>\n      <td>selected</td>\n      <td>3184320.0</td>\n    </tr>\n    <tr>\n      <th>5</th>\n      <td>PRJNA46457</td>\n      <td>GCA_000875755.1</td>\n      <td>743967</td>\n      <td>51365</td>\n      <td>Mycoplasma yeatsii GM274B</td>\n      <td>Mycoplasma yeatsii GM274B</td>\n      <td>strain=GM274B</td>\n      <td>latest</td>\n      <td>Complete Genome</td>\n      <td>2015-02-13</td>\n      <td>...</td>\n      <td>2.630968e+09</td>\n      <td>PRJNA46457</td>\n      <td>Mycoplasma yeatsii</td>\n      <td>GM274B</td>\n      <td>Mycoplasma yeatsii GM274B</td>\n      <td>2015-09-21</td>\n      <td>False</td>\n      <td>train</td>\n      <td>selected</td>\n      <td>895051.0</td>\n    </tr>\n  </tbody>\n</table>\n<p>5 rows × 23 columns</p>\n</div>"
     },
     "execution_count": 2,
     "metadata": {},
     "output_type": "execute_result"
    }
   ],
   "source": [
    "import pyreadr\n",
    "\n",
    "size_rds = pyreadr.read_r(old_rds_sizes_path)[None]\n",
    "size_rds.head()"
   ],
   "metadata": {
    "collapsed": false,
    "pycharm": {
     "name": "#%%\n"
    }
   }
  },
  {
   "cell_type": "code",
   "execution_count": 6,
   "outputs": [
    {
     "data": {
      "text/plain": "                       Species  \\\n0           Streptococcus suis   \n1         Mycoplasma hyorhinis   \n2     Burkholderia cenocepacia   \n3      Serratia proteamaculans   \n4          Ralstonia pickettii   \n5            Histophilus somni   \n6  Yersinia pseudotuberculosis   \n7      Shewanella putrefaciens   \n8           Thermobifida fusca   \n9   Acinetobacter nosocomialis   \n\n                                        Current Path  Updated Path  \n0  ftp://ftp.ncbi.nlm.nih.gov/genomes/all/GCA/000...           NaN  \n1  ftp://ftp.ncbi.nlm.nih.gov/genomes/all/GCA/000...           NaN  \n2  ftp://ftp.ncbi.nlm.nih.gov/genomes/all/GCA/000...           NaN  \n3  ftp://ftp.ncbi.nlm.nih.gov/genomes/all/GCA/000...           NaN  \n4  ftp://ftp.ncbi.nlm.nih.gov/genomes/all/GCA/000...           NaN  \n5  ftp://ftp.ncbi.nlm.nih.gov/genomes/all/GCA/000...           NaN  \n6  ftp://ftp.ncbi.nlm.nih.gov/genomes/all/GCA/000...           NaN  \n7  ftp://ftp.ncbi.nlm.nih.gov/genomes/all/GCA/000...           NaN  \n8  ftp://ftp.ncbi.nlm.nih.gov/genomes/all/GCA/000...           NaN  \n9  ftp://ftp.ncbi.nlm.nih.gov/genomes/all/GCA/000...           NaN  ",
      "text/html": "<div>\n<style scoped>\n    .dataframe tbody tr th:only-of-type {\n        vertical-align: middle;\n    }\n\n    .dataframe tbody tr th {\n        vertical-align: top;\n    }\n\n    .dataframe thead th {\n        text-align: right;\n    }\n</style>\n<table border=\"1\" class=\"dataframe\">\n  <thead>\n    <tr style=\"text-align: right;\">\n      <th></th>\n      <th>Species</th>\n      <th>Current Path</th>\n      <th>Updated Path</th>\n    </tr>\n  </thead>\n  <tbody>\n    <tr>\n      <th>0</th>\n      <td>Streptococcus suis</td>\n      <td>ftp://ftp.ncbi.nlm.nih.gov/genomes/all/GCA/000...</td>\n      <td>NaN</td>\n    </tr>\n    <tr>\n      <th>1</th>\n      <td>Mycoplasma hyorhinis</td>\n      <td>ftp://ftp.ncbi.nlm.nih.gov/genomes/all/GCA/000...</td>\n      <td>NaN</td>\n    </tr>\n    <tr>\n      <th>2</th>\n      <td>Burkholderia cenocepacia</td>\n      <td>ftp://ftp.ncbi.nlm.nih.gov/genomes/all/GCA/000...</td>\n      <td>NaN</td>\n    </tr>\n    <tr>\n      <th>3</th>\n      <td>Serratia proteamaculans</td>\n      <td>ftp://ftp.ncbi.nlm.nih.gov/genomes/all/GCA/000...</td>\n      <td>NaN</td>\n    </tr>\n    <tr>\n      <th>4</th>\n      <td>Ralstonia pickettii</td>\n      <td>ftp://ftp.ncbi.nlm.nih.gov/genomes/all/GCA/000...</td>\n      <td>NaN</td>\n    </tr>\n    <tr>\n      <th>5</th>\n      <td>Histophilus somni</td>\n      <td>ftp://ftp.ncbi.nlm.nih.gov/genomes/all/GCA/000...</td>\n      <td>NaN</td>\n    </tr>\n    <tr>\n      <th>6</th>\n      <td>Yersinia pseudotuberculosis</td>\n      <td>ftp://ftp.ncbi.nlm.nih.gov/genomes/all/GCA/000...</td>\n      <td>NaN</td>\n    </tr>\n    <tr>\n      <th>7</th>\n      <td>Shewanella putrefaciens</td>\n      <td>ftp://ftp.ncbi.nlm.nih.gov/genomes/all/GCA/000...</td>\n      <td>NaN</td>\n    </tr>\n    <tr>\n      <th>8</th>\n      <td>Thermobifida fusca</td>\n      <td>ftp://ftp.ncbi.nlm.nih.gov/genomes/all/GCA/000...</td>\n      <td>NaN</td>\n    </tr>\n    <tr>\n      <th>9</th>\n      <td>Acinetobacter nosocomialis</td>\n      <td>ftp://ftp.ncbi.nlm.nih.gov/genomes/all/GCA/000...</td>\n      <td>NaN</td>\n    </tr>\n  </tbody>\n</table>\n</div>"
     },
     "execution_count": 6,
     "metadata": {},
     "output_type": "execute_result"
    }
   ],
   "source": [
    "import numpy as np\n",
    "\n",
    "# extract non-found species\n",
    "df = size_rds[size_rds['Genome.Size'] == 0][['Species', 'ftp_path']].reset_index(drop=True).rename(columns={'ftp_path': 'Current Path'})\n",
    "df['Updated Path'] = np.nan\n",
    "df"
   ],
   "metadata": {
    "collapsed": false,
    "pycharm": {
     "name": "#%%\n"
    }
   }
  },
  {
   "cell_type": "code",
   "execution_count": 7,
   "outputs": [
    {
     "data": {
      "text/plain": "                       Species  \\\n0           Streptococcus suis   \n1         Mycoplasma hyorhinis   \n2     Burkholderia cenocepacia   \n3      Serratia proteamaculans   \n4          Ralstonia pickettii   \n5            Histophilus somni   \n6  Yersinia pseudotuberculosis   \n7      Shewanella putrefaciens   \n8           Thermobifida fusca   \n9   Acinetobacter nosocomialis   \n\n                                        Current Path  \\\n0  ftp://ftp.ncbi.nlm.nih.gov/genomes/all/GCA/000...   \n1  ftp://ftp.ncbi.nlm.nih.gov/genomes/all/GCA/000...   \n2  ftp://ftp.ncbi.nlm.nih.gov/genomes/all/GCA/000...   \n3  ftp://ftp.ncbi.nlm.nih.gov/genomes/all/GCA/000...   \n4  ftp://ftp.ncbi.nlm.nih.gov/genomes/all/GCA/000...   \n5  ftp://ftp.ncbi.nlm.nih.gov/genomes/all/GCA/000...   \n6  ftp://ftp.ncbi.nlm.nih.gov/genomes/all/GCA/000...   \n7  ftp://ftp.ncbi.nlm.nih.gov/genomes/all/GCA/000...   \n8  ftp://ftp.ncbi.nlm.nih.gov/genomes/all/GCA/000...   \n9  ftp://ftp.ncbi.nlm.nih.gov/genomes/all/GCA/000...   \n\n                                        Updated Path  \n0                                                NaN  \n1  ftp://ftp.ncbi.nlm.nih.gov/genomes/all/GCA/000...  \n2                                                NaN  \n3                                                NaN  \n4                                                NaN  \n5                                                NaN  \n6                                                NaN  \n7                                                NaN  \n8                                                NaN  \n9                                                NaN  ",
      "text/html": "<div>\n<style scoped>\n    .dataframe tbody tr th:only-of-type {\n        vertical-align: middle;\n    }\n\n    .dataframe tbody tr th {\n        vertical-align: top;\n    }\n\n    .dataframe thead th {\n        text-align: right;\n    }\n</style>\n<table border=\"1\" class=\"dataframe\">\n  <thead>\n    <tr style=\"text-align: right;\">\n      <th></th>\n      <th>Species</th>\n      <th>Current Path</th>\n      <th>Updated Path</th>\n    </tr>\n  </thead>\n  <tbody>\n    <tr>\n      <th>0</th>\n      <td>Streptococcus suis</td>\n      <td>ftp://ftp.ncbi.nlm.nih.gov/genomes/all/GCA/000...</td>\n      <td>NaN</td>\n    </tr>\n    <tr>\n      <th>1</th>\n      <td>Mycoplasma hyorhinis</td>\n      <td>ftp://ftp.ncbi.nlm.nih.gov/genomes/all/GCA/000...</td>\n      <td>ftp://ftp.ncbi.nlm.nih.gov/genomes/all/GCA/000...</td>\n    </tr>\n    <tr>\n      <th>2</th>\n      <td>Burkholderia cenocepacia</td>\n      <td>ftp://ftp.ncbi.nlm.nih.gov/genomes/all/GCA/000...</td>\n      <td>NaN</td>\n    </tr>\n    <tr>\n      <th>3</th>\n      <td>Serratia proteamaculans</td>\n      <td>ftp://ftp.ncbi.nlm.nih.gov/genomes/all/GCA/000...</td>\n      <td>NaN</td>\n    </tr>\n    <tr>\n      <th>4</th>\n      <td>Ralstonia pickettii</td>\n      <td>ftp://ftp.ncbi.nlm.nih.gov/genomes/all/GCA/000...</td>\n      <td>NaN</td>\n    </tr>\n    <tr>\n      <th>5</th>\n      <td>Histophilus somni</td>\n      <td>ftp://ftp.ncbi.nlm.nih.gov/genomes/all/GCA/000...</td>\n      <td>NaN</td>\n    </tr>\n    <tr>\n      <th>6</th>\n      <td>Yersinia pseudotuberculosis</td>\n      <td>ftp://ftp.ncbi.nlm.nih.gov/genomes/all/GCA/000...</td>\n      <td>NaN</td>\n    </tr>\n    <tr>\n      <th>7</th>\n      <td>Shewanella putrefaciens</td>\n      <td>ftp://ftp.ncbi.nlm.nih.gov/genomes/all/GCA/000...</td>\n      <td>NaN</td>\n    </tr>\n    <tr>\n      <th>8</th>\n      <td>Thermobifida fusca</td>\n      <td>ftp://ftp.ncbi.nlm.nih.gov/genomes/all/GCA/000...</td>\n      <td>NaN</td>\n    </tr>\n    <tr>\n      <th>9</th>\n      <td>Acinetobacter nosocomialis</td>\n      <td>ftp://ftp.ncbi.nlm.nih.gov/genomes/all/GCA/000...</td>\n      <td>NaN</td>\n    </tr>\n  </tbody>\n</table>\n</div>"
     },
     "execution_count": 7,
     "metadata": {},
     "output_type": "execute_result"
    }
   ],
   "source": [
    "# path for contig \"ASM21129v1\" can stay as it is, because it was falsely removed (was compared to no real plasmid)\n",
    "# NOTE: this manual path setting won't be needed in prepare_input.py as this script will be applied before cleaning\n",
    "df.loc[df['Species'] == 'Mycoplasma hyorhinis', ['Updated Path']] = df[df['Species'] == 'Mycoplasma hyorhinis']['Current Path']\n",
    "df"
   ],
   "metadata": {
    "collapsed": false,
    "pycharm": {
     "name": "#%%\n"
    }
   }
  },
  {
   "cell_type": "code",
   "execution_count": 23,
   "outputs": [],
   "source": [
    "import wget\n",
    "\n",
    "if not genbank_exists:\n",
    "    wget.download('https://ftp.ncbi.nlm.nih.gov/genomes/genbank/assembly_summary_genbank.txt',\n",
    "                  out=genbank_path)"
   ],
   "metadata": {
    "collapsed": false,
    "pycharm": {
     "name": "#%%\n"
    }
   }
  },
  {
   "cell_type": "code",
   "execution_count": 10,
   "outputs": [
    {
     "data": {
      "text/plain": "  assembly_accession  bioproject     biosample      wgs_master  \\\n0    GCA_000001215.4  PRJNA13812  SAMN02803731             NaN   \n1   GCA_000001405.29  PRJNA31257           NaN             NaN   \n2    GCA_000001515.5  PRJNA13184  SAMN02981217  AACZ00000000.4   \n3    GCA_000001545.3  PRJNA20869  SAMN02981238  ABGA00000000.1   \n4    GCA_000001635.9  PRJNA20689           NaN             NaN   \n\n    refseq_category  taxid  species_taxid            organism_name  \\\n0  reference genome   7227           7227  Drosophila melanogaster   \n1  reference genome   9606           9606             Homo sapiens   \n2                na   9598           9598          Pan troglodytes   \n3                na   9601           9601             Pongo abelii   \n4  reference genome  10090          10090             Mus musculus   \n\n  infraspecific_name                               isolate  ... genome_rep  \\\n0                NaN                                   NaN  ...       Full   \n1                NaN                                   NaN  ...       Full   \n2                NaN  Yerkes chimp pedigree #C0471 (Clint)  ...       Full   \n3                NaN                               ISIS 71  ...       Full   \n4    strain=C57BL/6J                                   NaN  ...       Full   \n\n  seq_rel_date                asm_name  \\\n0   2014/08/01  Release 6 plus ISO1 MT   \n1   2022/02/03              GRCh38.p14   \n2   2016/05/03             Pan_tro 3.0   \n3   2008/11/13        P_pygmaeus_2.0.2   \n4   2020/06/24                  GRCm39   \n\n                                           submitter   gbrs_paired_asm  \\\n0  The FlyBase Consortium/Berkeley Drosophila Gen...   GCF_000001215.4   \n1                        Genome Reference Consortium  GCF_000001405.40   \n2      Chimpanzee Sequencing and Analysis Consortium   GCF_000001515.7   \n3             Orangutan Genome Sequencing Consortium                na   \n4                        Genome Reference Consortium  GCF_000001635.27   \n\n  paired_asm_comp                                           ftp_path  \\\n0       identical  https://ftp.ncbi.nlm.nih.gov/genomes/all/GCA/0...   \n1       different  https://ftp.ncbi.nlm.nih.gov/genomes/all/GCA/0...   \n2       different  https://ftp.ncbi.nlm.nih.gov/genomes/all/GCA/0...   \n3              na  https://ftp.ncbi.nlm.nih.gov/genomes/all/GCA/0...   \n4       identical  https://ftp.ncbi.nlm.nih.gov/genomes/all/GCA/0...   \n\n                       excluded_from_refseq relation_to_type_material  \\\n0                                       NaN                       NaN   \n1                                       NaN                       NaN   \n2  superseded by newer assembly for species                       NaN   \n3                                       NaN                       NaN   \n4                                       NaN                       NaN   \n\n  asm_not_live_date  \n0                na  \n1                na  \n2                na  \n3                na  \n4                na  \n\n[5 rows x 23 columns]",
      "text/html": "<div>\n<style scoped>\n    .dataframe tbody tr th:only-of-type {\n        vertical-align: middle;\n    }\n\n    .dataframe tbody tr th {\n        vertical-align: top;\n    }\n\n    .dataframe thead th {\n        text-align: right;\n    }\n</style>\n<table border=\"1\" class=\"dataframe\">\n  <thead>\n    <tr style=\"text-align: right;\">\n      <th></th>\n      <th>assembly_accession</th>\n      <th>bioproject</th>\n      <th>biosample</th>\n      <th>wgs_master</th>\n      <th>refseq_category</th>\n      <th>taxid</th>\n      <th>species_taxid</th>\n      <th>organism_name</th>\n      <th>infraspecific_name</th>\n      <th>isolate</th>\n      <th>...</th>\n      <th>genome_rep</th>\n      <th>seq_rel_date</th>\n      <th>asm_name</th>\n      <th>submitter</th>\n      <th>gbrs_paired_asm</th>\n      <th>paired_asm_comp</th>\n      <th>ftp_path</th>\n      <th>excluded_from_refseq</th>\n      <th>relation_to_type_material</th>\n      <th>asm_not_live_date</th>\n    </tr>\n  </thead>\n  <tbody>\n    <tr>\n      <th>0</th>\n      <td>GCA_000001215.4</td>\n      <td>PRJNA13812</td>\n      <td>SAMN02803731</td>\n      <td>NaN</td>\n      <td>reference genome</td>\n      <td>7227</td>\n      <td>7227</td>\n      <td>Drosophila melanogaster</td>\n      <td>NaN</td>\n      <td>NaN</td>\n      <td>...</td>\n      <td>Full</td>\n      <td>2014/08/01</td>\n      <td>Release 6 plus ISO1 MT</td>\n      <td>The FlyBase Consortium/Berkeley Drosophila Gen...</td>\n      <td>GCF_000001215.4</td>\n      <td>identical</td>\n      <td>https://ftp.ncbi.nlm.nih.gov/genomes/all/GCA/0...</td>\n      <td>NaN</td>\n      <td>NaN</td>\n      <td>na</td>\n    </tr>\n    <tr>\n      <th>1</th>\n      <td>GCA_000001405.29</td>\n      <td>PRJNA31257</td>\n      <td>NaN</td>\n      <td>NaN</td>\n      <td>reference genome</td>\n      <td>9606</td>\n      <td>9606</td>\n      <td>Homo sapiens</td>\n      <td>NaN</td>\n      <td>NaN</td>\n      <td>...</td>\n      <td>Full</td>\n      <td>2022/02/03</td>\n      <td>GRCh38.p14</td>\n      <td>Genome Reference Consortium</td>\n      <td>GCF_000001405.40</td>\n      <td>different</td>\n      <td>https://ftp.ncbi.nlm.nih.gov/genomes/all/GCA/0...</td>\n      <td>NaN</td>\n      <td>NaN</td>\n      <td>na</td>\n    </tr>\n    <tr>\n      <th>2</th>\n      <td>GCA_000001515.5</td>\n      <td>PRJNA13184</td>\n      <td>SAMN02981217</td>\n      <td>AACZ00000000.4</td>\n      <td>na</td>\n      <td>9598</td>\n      <td>9598</td>\n      <td>Pan troglodytes</td>\n      <td>NaN</td>\n      <td>Yerkes chimp pedigree #C0471 (Clint)</td>\n      <td>...</td>\n      <td>Full</td>\n      <td>2016/05/03</td>\n      <td>Pan_tro 3.0</td>\n      <td>Chimpanzee Sequencing and Analysis Consortium</td>\n      <td>GCF_000001515.7</td>\n      <td>different</td>\n      <td>https://ftp.ncbi.nlm.nih.gov/genomes/all/GCA/0...</td>\n      <td>superseded by newer assembly for species</td>\n      <td>NaN</td>\n      <td>na</td>\n    </tr>\n    <tr>\n      <th>3</th>\n      <td>GCA_000001545.3</td>\n      <td>PRJNA20869</td>\n      <td>SAMN02981238</td>\n      <td>ABGA00000000.1</td>\n      <td>na</td>\n      <td>9601</td>\n      <td>9601</td>\n      <td>Pongo abelii</td>\n      <td>NaN</td>\n      <td>ISIS 71</td>\n      <td>...</td>\n      <td>Full</td>\n      <td>2008/11/13</td>\n      <td>P_pygmaeus_2.0.2</td>\n      <td>Orangutan Genome Sequencing Consortium</td>\n      <td>na</td>\n      <td>na</td>\n      <td>https://ftp.ncbi.nlm.nih.gov/genomes/all/GCA/0...</td>\n      <td>NaN</td>\n      <td>NaN</td>\n      <td>na</td>\n    </tr>\n    <tr>\n      <th>4</th>\n      <td>GCA_000001635.9</td>\n      <td>PRJNA20689</td>\n      <td>NaN</td>\n      <td>NaN</td>\n      <td>reference genome</td>\n      <td>10090</td>\n      <td>10090</td>\n      <td>Mus musculus</td>\n      <td>strain=C57BL/6J</td>\n      <td>NaN</td>\n      <td>...</td>\n      <td>Full</td>\n      <td>2020/06/24</td>\n      <td>GRCm39</td>\n      <td>Genome Reference Consortium</td>\n      <td>GCF_000001635.27</td>\n      <td>identical</td>\n      <td>https://ftp.ncbi.nlm.nih.gov/genomes/all/GCA/0...</td>\n      <td>NaN</td>\n      <td>NaN</td>\n      <td>na</td>\n    </tr>\n  </tbody>\n</table>\n<p>5 rows × 23 columns</p>\n</div>"
     },
     "execution_count": 10,
     "metadata": {},
     "output_type": "execute_result"
    }
   ],
   "source": [
    "import pandas as pd\n",
    "\n",
    "genbank = pd.read_csv(genbank_path, sep='\\t', skiprows=[0])\n",
    "genbank.rename(columns={'# assembly_accession': 'assembly_accession'}, inplace=True)\n",
    "genbank.head()"
   ],
   "metadata": {
    "collapsed": false,
    "pycharm": {
     "name": "#%%\n"
    }
   }
  },
  {
   "cell_type": "code",
   "execution_count": 11,
   "outputs": [],
   "source": [
    "def get_completeness_nr(assembly_level):\n",
    "    if assembly_level == 'Complete Genome': return 4\n",
    "    elif assembly_level == 'Chromosome': return 3\n",
    "    elif assembly_level == 'Scaffold': return 2\n",
    "    elif assembly_level == 'Contig': return 1\n",
    "    else: raise ValueError(f'Non-valid assembly level: {assembly_level}!')"
   ],
   "metadata": {
    "collapsed": false,
    "pycharm": {
     "name": "#%%\n"
    }
   }
  },
  {
   "cell_type": "code",
   "execution_count": 12,
   "outputs": [
    {
     "name": "stdout",
     "output_type": "stream",
     "text": [
      "Current species: Streptococcus suis\n",
      "Representative does not exist!\n",
      "\n",
      "Current species: Burkholderia cenocepacia\n",
      "Representative exists\n",
      "\n",
      "Current species: Serratia proteamaculans\n",
      "Representative exists\n",
      "\n",
      "Current species: Ralstonia pickettii\n",
      "Representative exists\n",
      "\n",
      "Current species: Yersinia pseudotuberculosis\n",
      "Representative does not exist!\n",
      "\n",
      "Current species: Shewanella putrefaciens\n",
      "Representative does not exist!\n",
      "\n",
      "Current species: Thermobifida fusca\n",
      "Representative exists\n",
      "\n",
      "Current species: Acinetobacter nosocomialis\n",
      "Representative does not exist!\n",
      "\n"
     ]
    }
   ],
   "source": [
    "from numpy import random\n",
    "\n",
    "random_gen = random.default_rng(42)\n",
    "\n",
    "for species in df[df['Updated Path'].isna()]['Species']:\n",
    "    print(f'Current species: {species}')\n",
    "    species_genomes = genbank[genbank['organism_name'] == species].reset_index(drop=True)\n",
    "\n",
    "    if not species_genomes[species_genomes['refseq_category'] != 'na'].empty:\n",
    "        print('Representative exists\\n')\n",
    "        df.loc[df['Species'] == species, ['Updated Path']] = species_genomes[species_genomes['refseq_category'] != 'na'].iloc[0]['ftp_path']\n",
    "    else:\n",
    "        print('Representative does not exist!\\n')\n",
    "        # add numerical genome completeness\n",
    "        species_genomes['completeness_nr'] = species_genomes['assembly_level'].apply(lambda l: get_completeness_nr(l))\n",
    "        # get most complete ones\n",
    "        most_complete = species_genomes[species_genomes['completeness_nr'] == species_genomes['completeness_nr'].max()]\n",
    "        # select randomly among most complete ones\n",
    "        df.loc[df['Species'] == species, ['Updated Path']] = most_complete.sample(n=1, random_state=random_gen).iloc[0]['ftp_path']"
   ],
   "metadata": {
    "collapsed": false,
    "pycharm": {
     "name": "#%%\n"
    }
   }
  },
  {
   "cell_type": "code",
   "execution_count": 13,
   "outputs": [
    {
     "data": {
      "text/plain": "                       Species  \\\n0           Streptococcus suis   \n1         Mycoplasma hyorhinis   \n2     Burkholderia cenocepacia   \n3      Serratia proteamaculans   \n4          Ralstonia pickettii   \n5            Histophilus somni   \n6  Yersinia pseudotuberculosis   \n7      Shewanella putrefaciens   \n8           Thermobifida fusca   \n9   Acinetobacter nosocomialis   \n\n                                        Current Path  \\\n0  ftp://ftp.ncbi.nlm.nih.gov/genomes/all/GCA/000...   \n1  ftp://ftp.ncbi.nlm.nih.gov/genomes/all/GCA/000...   \n2  ftp://ftp.ncbi.nlm.nih.gov/genomes/all/GCA/000...   \n3  ftp://ftp.ncbi.nlm.nih.gov/genomes/all/GCA/000...   \n4  ftp://ftp.ncbi.nlm.nih.gov/genomes/all/GCA/000...   \n5  ftp://ftp.ncbi.nlm.nih.gov/genomes/all/GCA/000...   \n6  ftp://ftp.ncbi.nlm.nih.gov/genomes/all/GCA/000...   \n7  ftp://ftp.ncbi.nlm.nih.gov/genomes/all/GCA/000...   \n8  ftp://ftp.ncbi.nlm.nih.gov/genomes/all/GCA/000...   \n9  ftp://ftp.ncbi.nlm.nih.gov/genomes/all/GCA/000...   \n\n                                        Updated Path  \n0  https://ftp.ncbi.nlm.nih.gov/genomes/all/GCA/9...  \n1  ftp://ftp.ncbi.nlm.nih.gov/genomes/all/GCA/000...  \n2  https://ftp.ncbi.nlm.nih.gov/genomes/all/GCA/0...  \n3  https://ftp.ncbi.nlm.nih.gov/genomes/all/GCA/0...  \n4  https://ftp.ncbi.nlm.nih.gov/genomes/all/GCA/9...  \n5  ftp://ftp.ncbi.nlm.nih.gov/genomes/all/GCF/000...  \n6  https://ftp.ncbi.nlm.nih.gov/genomes/all/GCA/0...  \n7  https://ftp.ncbi.nlm.nih.gov/genomes/all/GCA/0...  \n8  https://ftp.ncbi.nlm.nih.gov/genomes/all/GCA/0...  \n9  https://ftp.ncbi.nlm.nih.gov/genomes/all/GCA/0...  ",
      "text/html": "<div>\n<style scoped>\n    .dataframe tbody tr th:only-of-type {\n        vertical-align: middle;\n    }\n\n    .dataframe tbody tr th {\n        vertical-align: top;\n    }\n\n    .dataframe thead th {\n        text-align: right;\n    }\n</style>\n<table border=\"1\" class=\"dataframe\">\n  <thead>\n    <tr style=\"text-align: right;\">\n      <th></th>\n      <th>Species</th>\n      <th>Current Path</th>\n      <th>Updated Path</th>\n    </tr>\n  </thead>\n  <tbody>\n    <tr>\n      <th>0</th>\n      <td>Streptococcus suis</td>\n      <td>ftp://ftp.ncbi.nlm.nih.gov/genomes/all/GCA/000...</td>\n      <td>https://ftp.ncbi.nlm.nih.gov/genomes/all/GCA/9...</td>\n    </tr>\n    <tr>\n      <th>1</th>\n      <td>Mycoplasma hyorhinis</td>\n      <td>ftp://ftp.ncbi.nlm.nih.gov/genomes/all/GCA/000...</td>\n      <td>ftp://ftp.ncbi.nlm.nih.gov/genomes/all/GCA/000...</td>\n    </tr>\n    <tr>\n      <th>2</th>\n      <td>Burkholderia cenocepacia</td>\n      <td>ftp://ftp.ncbi.nlm.nih.gov/genomes/all/GCA/000...</td>\n      <td>https://ftp.ncbi.nlm.nih.gov/genomes/all/GCA/0...</td>\n    </tr>\n    <tr>\n      <th>3</th>\n      <td>Serratia proteamaculans</td>\n      <td>ftp://ftp.ncbi.nlm.nih.gov/genomes/all/GCA/000...</td>\n      <td>https://ftp.ncbi.nlm.nih.gov/genomes/all/GCA/0...</td>\n    </tr>\n    <tr>\n      <th>4</th>\n      <td>Ralstonia pickettii</td>\n      <td>ftp://ftp.ncbi.nlm.nih.gov/genomes/all/GCA/000...</td>\n      <td>https://ftp.ncbi.nlm.nih.gov/genomes/all/GCA/9...</td>\n    </tr>\n    <tr>\n      <th>5</th>\n      <td>Histophilus somni</td>\n      <td>ftp://ftp.ncbi.nlm.nih.gov/genomes/all/GCA/000...</td>\n      <td>ftp://ftp.ncbi.nlm.nih.gov/genomes/all/GCF/000...</td>\n    </tr>\n    <tr>\n      <th>6</th>\n      <td>Yersinia pseudotuberculosis</td>\n      <td>ftp://ftp.ncbi.nlm.nih.gov/genomes/all/GCA/000...</td>\n      <td>https://ftp.ncbi.nlm.nih.gov/genomes/all/GCA/0...</td>\n    </tr>\n    <tr>\n      <th>7</th>\n      <td>Shewanella putrefaciens</td>\n      <td>ftp://ftp.ncbi.nlm.nih.gov/genomes/all/GCA/000...</td>\n      <td>https://ftp.ncbi.nlm.nih.gov/genomes/all/GCA/0...</td>\n    </tr>\n    <tr>\n      <th>8</th>\n      <td>Thermobifida fusca</td>\n      <td>ftp://ftp.ncbi.nlm.nih.gov/genomes/all/GCA/000...</td>\n      <td>https://ftp.ncbi.nlm.nih.gov/genomes/all/GCA/0...</td>\n    </tr>\n    <tr>\n      <th>9</th>\n      <td>Acinetobacter nosocomialis</td>\n      <td>ftp://ftp.ncbi.nlm.nih.gov/genomes/all/GCA/000...</td>\n      <td>https://ftp.ncbi.nlm.nih.gov/genomes/all/GCA/0...</td>\n    </tr>\n  </tbody>\n</table>\n</div>"
     },
     "execution_count": 13,
     "metadata": {},
     "output_type": "execute_result"
    }
   ],
   "source": [
    "df"
   ],
   "metadata": {
    "collapsed": false,
    "pycharm": {
     "name": "#%%\n"
    }
   }
  },
  {
   "cell_type": "code",
   "execution_count": 14,
   "outputs": [
    {
     "name": "stdout",
     "output_type": "stream",
     "text": [
      "https://ftp.ncbi.nlm.nih.gov/genomes/all/GCA/901/543/625/GCA_901543625.1_42685_E01\n",
      "Path for Mycoplasma hyorhinis is still the same\n",
      "https://ftp.ncbi.nlm.nih.gov/genomes/all/GCA/001/718/895/GCA_001718895.1_ASM171889v1\n",
      "https://ftp.ncbi.nlm.nih.gov/genomes/all/GCA/008/830/365/GCA_008830365.1_ASM883036v1\n",
      "https://ftp.ncbi.nlm.nih.gov/genomes/all/GCA/902/374/465/GCA_902374465.1_MGYG-HGUT-01384\n",
      "ftp://ftp.ncbi.nlm.nih.gov/genomes/all/GCF/000/019/405/GCF_000019405.1_ASM1940v1\n",
      "https://ftp.ncbi.nlm.nih.gov/genomes/all/GCA/000/750/315/GCA_000750315.1_ASM75031v1\n",
      "https://ftp.ncbi.nlm.nih.gov/genomes/all/GCA/025/402/875/GCA_025402875.1_ASM2540287v1\n",
      "https://ftp.ncbi.nlm.nih.gov/genomes/all/GCA/015/034/585/GCA_015034585.1_ASM1503458v1\n",
      "https://ftp.ncbi.nlm.nih.gov/genomes/all/GCA/000/814/165/GCA_000814165.3_ASM81416v3\n"
     ]
    }
   ],
   "source": [
    "import pyreadr\n",
    "\n",
    "# load current RDS\n",
    "rds = pyreadr.read_r(old_rds_path)[None]\n",
    "rds['ftp_path'] = rds['ftp_path'].astype(str)\n",
    "\n",
    "# iterate new paths of non-found species\n",
    "for species, updated_path in zip(df['Species'], df['Updated Path']):\n",
    "    if updated_path != rds[rds['Species'] == species].iloc[0]['ftp_path']:\n",
    "        # update current RDS, keep ftp-prefix for consistency\n",
    "        print(updated_path)\n",
    "        rds.loc[rds['Species'] == species, ['ftp_path']] = updated_path.replace('https://', 'ftp://')\n",
    "    else:\n",
    "        print(f'Path for {species} is still the same')\n",
    "\n",
    "# save updated RDS\n",
    "pyreadr.write_rds(new_rds_path, rds)"
   ],
   "metadata": {
    "collapsed": false,
    "pycharm": {
     "name": "#%%\n"
    }
   }
  }
 ],
 "metadata": {
  "kernelspec": {
   "display_name": "Python 3",
   "language": "python",
   "name": "python3"
  },
  "language_info": {
   "codemirror_mode": {
    "name": "ipython",
    "version": 2
   },
   "file_extension": ".py",
   "mimetype": "text/x-python",
   "name": "python",
   "nbconvert_exporter": "python",
   "pygments_lexer": "ipython2",
   "version": "2.7.6"
  }
 },
 "nbformat": 4,
 "nbformat_minor": 0
}