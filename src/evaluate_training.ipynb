{
 "cells": [
  {
   "cell_type": "code",
   "execution_count": 98,
   "outputs": [],
   "source": [
    "training_dir = '../results/training'\n",
    "run_identifier = 'balancedLoss'  # must be set, not allowed to be empty\n",
    "model_selection_criterion = 'Loss' # validation loss or accuracy"
   ],
   "metadata": {
    "collapsed": false,
    "pycharm": {
     "name": "#%%\n"
    }
   }
  },
  {
   "cell_type": "code",
   "execution_count": null,
   "outputs": [],
   "source": [
    "import glob\n",
    "import os\n",
    "import pandas as pd\n",
    "import re\n",
    "\n",
    "# convert logs to DataFrames\n",
    "for log_file in glob.glob(f'{training_dir}/*.txt'):\n",
    "    logs_train = pd.DataFrame(columns=['Epoch', 'Batch', 'Training Loss', 'Training Accuracy'])\n",
    "    logs_val = pd.DataFrame(columns=['Epoch', 'Validation Loss', 'Validation Accuracy'])\n",
    "\n",
    "    for line in open(log_file, 'r').readlines():\n",
    "        if line.startswith(('Device', 'Number', 'Trigger', 'Best', 'Training', 'Process')) or line == '\\n':\n",
    "            continue\n",
    "        elif line.startswith('Epoch'):\n",
    "            epoch = line.split(':')[1].strip()\n",
    "        elif line.startswith('Batch'):\n",
    "            splitted_line = re.split('[,:]+', line)\n",
    "            batch, train_loss, train_acc = splitted_line[1].strip(), splitted_line[3].strip(), splitted_line[5].strip()\n",
    "            new_row = pd.DataFrame([{'Epoch': epoch, 'Batch': batch, 'Training Loss': train_loss, 'Training Accuracy': train_acc}])\n",
    "            logs_train = pd.concat([logs_train, new_row], ignore_index=True)\n",
    "        elif line.startswith('Validation'):\n",
    "            splitted_line = re.split('[,:]+', line)\n",
    "            val_loss, val_acc = splitted_line[1].strip(), splitted_line[3].strip()\n",
    "            new_row = pd.DataFrame([{'Epoch': epoch, 'Validation Loss': val_loss, 'Validation Accuracy': val_acc}])\n",
    "            logs_val = pd.concat([logs_val, new_row], ignore_index=True)\n",
    "        else:\n",
    "            print(f'Unexpected line found in {log_file}: {line}')\n",
    "\n",
    "    filename_prefix = '_'.join(re.split('\\.|_', os.path.basename(log_file))[1:-1])\n",
    "    logs_train.to_csv(f'{training_dir}/{filename_prefix}_training.csv', index=False)\n",
    "    logs_val.to_csv(f'{training_dir}/{filename_prefix}_validation.csv', index=False)"
   ],
   "metadata": {
    "collapsed": false,
    "pycharm": {
     "name": "#%%\n",
     "is_executing": true
    }
   }
  },
  {
   "cell_type": "code",
   "execution_count": null,
   "outputs": [],
   "source": [
    "import matplotlib.pyplot as plt\n",
    "import seaborn as sns\n",
    "\n",
    "def create_smoothed_lineplot(merged, measure, mx, cut, epochs, plots_subdir):\n",
    "    plotdata = merged.copy()\n",
    "    fig, ax = plt.subplots(figsize=(16, 8))\n",
    "    sns.lineplot(data=plotdata,\n",
    "                 x='Batch_cont',\n",
    "                 y=measure,\n",
    "                 hue='TYPE')\n",
    "\n",
    "    plt.title(f'Training and Validation {measure} over Time\\n(max sequence length: {mx}k, cutted: {cut.lower()} normalization, epochs: {epochs})', fontsize=22)\n",
    "    ax.set(xlim=(0, 4))\n",
    "    plt.xlabel('Epoch', fontsize=18)\n",
    "    plt.ylabel(measure, fontsize=18)\n",
    "    ax.set_xticks(plotdata[plotdata['TYPE'] == 'Validation']['Batch_cont'].tolist(), plotdata['Epoch'].astype(int).unique(), fontsize=14)\n",
    "    plt.yticks(fontsize=14)\n",
    "    plt.rcParams['legend.title_fontsize'] = 14\n",
    "    ax.legend(title=f'{measure} of', fontsize=14, loc='upper left', bbox_to_anchor=(1, 1))\n",
    "\n",
    "    plt.tight_layout()\n",
    "    plt.savefig(f'{plots_subdir}/max{mx}_cut{cut}_epochs{epochs}_{measure.lower()}_over_time.png', dpi=300, facecolor='white', edgecolor='none')\n",
    "    plt.close()"
   ],
   "metadata": {
    "collapsed": false,
    "pycharm": {
     "name": "#%%\n",
     "is_executing": true
    }
   }
  },
  {
   "cell_type": "code",
   "execution_count": null,
   "outputs": [],
   "source": [
    "import numpy as np\n",
    "import pandas as pd\n",
    "\n",
    "from sympy import divisors\n",
    "\n",
    "plots_subdir = f'../plots/{run_identifier}'\n",
    "if not os.path.exists(plots_subdir):\n",
    "    os.makedirs(plots_subdir)\n",
    "\n",
    "best_models = pd.DataFrame(columns=['Maximum Sequence Length', 'Cutting Method', 'Number of Epochs', 'Epoch', 'Loss', 'Accuracy'])\n",
    "means = pd.DataFrame(columns=['Maximum Sequence Length', 'Cutting Method', 'Number of Epochs', 'Type', 'Epoch', 'Mean Loss', 'Mean Accuracy'])\n",
    "\n",
    "for mx in [4, 6, 8]:\n",
    "    for cut in ['Before', 'After']:\n",
    "        for epochs in [15, 30]:\n",
    "            # get dataframes with loss and accuracy\n",
    "            current_logs_train = pd.read_csv(f'{training_dir}/max{mx}_cut{cut}_{epochs}epochs_{run_identifier}_training.csv')\n",
    "            current_logs_val = pd.read_csv(f'{training_dir}/max{mx}_cut{cut}_{epochs}epochs_{run_identifier}_validation.csv')\n",
    "\n",
    "            # extract and store best model (based on validation accuracy or loss)\n",
    "            current_bm = current_logs_val.iloc[current_logs_val[f'Validation {model_selection_criterion}'].idxmax()]\n",
    "            best_models = pd.concat([best_models,\n",
    "                                     pd.DataFrame([{'Maximum Sequence Length': mx,\n",
    "                                                     'Cutting Method': cut,\n",
    "                                                     'Number of Epochs': epochs,\n",
    "                                                     'Epoch': int(current_bm['Epoch']),\n",
    "                                                     'Loss': current_bm['Validation Loss'],\n",
    "                                                     'Accuracy': current_bm['Validation Accuracy']}])],\n",
    "                                    ignore_index=True)\n",
    "\n",
    "            # extract mean training statistics per epoch\n",
    "            means_train = current_logs_train.groupby('Epoch')[['Training Loss', 'Training Accuracy']].mean()\n",
    "\n",
    "            # combine mean statistics of training with validation results\n",
    "            for ep, (loss, acc) in enumerate(means_train.values):\n",
    "                means = pd.concat([means,\n",
    "                                   pd.DataFrame([{'Maximum Sequence Length': mx,\n",
    "                                                  'Cutting Method': cut,\n",
    "                                                  'Number of Epochs': epochs,\n",
    "                                                  'Type': 'Training',\n",
    "                                                  'Epoch': ep,\n",
    "                                                  'Mean Loss': loss,\n",
    "                                                  'Mean Accuracy': acc}])],\n",
    "                                  ignore_index=True)\n",
    "            for _, val_row in current_logs_val.iterrows():\n",
    "                means = pd.concat([means,\n",
    "                                   pd.DataFrame([{'Maximum Sequence Length': mx,\n",
    "                                                  'Cutting Method': cut,\n",
    "                                                  'Number of Epochs': epochs,\n",
    "                                                  'Type': 'Validation',\n",
    "                                                  'Epoch': int(val_row['Epoch']),\n",
    "                                                  'Mean Loss': val_row['Validation Loss'],\n",
    "                                                  'Mean Accuracy': val_row['Validation Accuracy']}])],\n",
    "                                  ignore_index=True)\n",
    "\n",
    "            # prepare smoothing of line plot (e.g. combine_factor = 3 means to average 3 consecutive row values to one new number)\n",
    "            n_batches = current_logs_train['Batch'].nunique()\n",
    "            divs = divisors(n_batches)\n",
    "            combine_factor = next(d for d in divs if d > 60)\n",
    "            current_logs_train_reduced = current_logs_train.groupby(np.arange(len(current_logs_train))//combine_factor).mean()\n",
    "\n",
    "            # prepare dataframe with training logs for merging\n",
    "            current_logs_train_reduced.columns = current_logs_train_reduced.columns.str.lstrip('Training ')\n",
    "            current_logs_train_reduced['TYPE'] = 'Training'\n",
    "\n",
    "            # prepare dataframe with validation logs for merging\n",
    "            current_logs_val['Batch'] = n_batches - 1\n",
    "            current_logs_val.columns = current_logs_val.columns.str.lstrip('Validation ')\n",
    "            current_logs_val['TYPE'] = 'Validation'\n",
    "\n",
    "            # merge both dataframes for easier plotting\n",
    "            current_merged = pd.concat([current_logs_train_reduced, current_logs_val], ignore_index=True)\n",
    "            current_merged['Batch_cont'] = current_merged.apply(lambda row: row['Batch'] * (row['Epoch'] + 1), axis=1)\n",
    "\n",
    "           # plot loss and accuracy over time\n",
    "            for measure in ['Loss', 'Accuracy']:\n",
    "                create_smoothed_lineplot(current_merged, measure, mx, cut, epochs, plots_subdir)\n",
    "\n",
    "best_models.to_csv(f'{training_dir}/best_models_{run_identifier}.csv', index=False)\n",
    "means.to_csv(f'{training_dir}/means_{run_identifier}.csv', index=False)"
   ],
   "metadata": {
    "collapsed": false,
    "pycharm": {
     "name": "#%%\n",
     "is_executing": true
    }
   }
  },
  {
   "cell_type": "code",
   "execution_count": null,
   "outputs": [],
   "source": [
    "# TODO: plot runtime of best models\n",
    "# TODO: plot confusion matrix & typical metrics derived of best models"
   ],
   "metadata": {
    "collapsed": false,
    "pycharm": {
     "name": "#%%\n",
     "is_executing": true
    }
   }
  },
  {
   "cell_type": "code",
   "execution_count": null,
   "outputs": [],
   "source": [
    "import pandas as pd\n",
    "\n",
    "# lookup best models\n",
    "b = pd.read_csv(f'{training_dir}/best_models_{run_identifier}.csv')\n",
    "b"
   ],
   "metadata": {
    "collapsed": false,
    "pycharm": {
     "name": "#%%\n",
     "is_executing": true
    }
   }
  },
  {
   "cell_type": "code",
   "execution_count": null,
   "outputs": [],
   "source": [
    "b[b['Cutting Method'] == 'Before']"
   ],
   "metadata": {
    "collapsed": false,
    "pycharm": {
     "name": "#%%\n",
     "is_executing": true
    }
   }
  },
  {
   "cell_type": "code",
   "execution_count": null,
   "outputs": [],
   "source": [
    "import pandas as pd\n",
    "\n",
    "# lookup mean statistics\n",
    "m = pd.read_csv(f'{training_dir}/means_{run_identifier}.csv')\n",
    "m"
   ],
   "metadata": {
    "collapsed": false,
    "pycharm": {
     "name": "#%%\n",
     "is_executing": true
    }
   }
  },
  {
   "cell_type": "code",
   "execution_count": null,
   "outputs": [],
   "source": [
    "m[m['Type'] == 'Validation']"
   ],
   "metadata": {
    "collapsed": false,
    "pycharm": {
     "name": "#%%\n",
     "is_executing": true
    }
   }
  }
 ],
 "metadata": {
  "kernelspec": {
   "display_name": "Python 3",
   "language": "python",
   "name": "python3"
  },
  "language_info": {
   "codemirror_mode": {
    "name": "ipython",
    "version": 2
   },
   "file_extension": ".py",
   "mimetype": "text/x-python",
   "name": "python",
   "nbconvert_exporter": "python",
   "pygments_lexer": "ipython2",
   "version": "2.7.6"
  }
 },
 "nbformat": 4,
 "nbformat_minor": 0
}