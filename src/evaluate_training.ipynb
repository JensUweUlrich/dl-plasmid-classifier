{
 "cells": [
  {
   "cell_type": "code",
   "execution_count": 1,
   "outputs": [],
   "source": [
    "training_dir = f'../results/training'"
   ],
   "metadata": {
    "collapsed": false,
    "pycharm": {
     "name": "#%%\n"
    }
   }
  },
  {
   "cell_type": "code",
   "execution_count": 2,
   "outputs": [],
   "source": [
    "import glob\n",
    "import pandas as pd\n",
    "import re\n",
    "\n",
    "# convert logs to DataFrames\n",
    "for log_file in glob.glob(f'{training_dir}/*.txt'):\n",
    "    logs_train = pd.DataFrame(columns=['Epoch', 'Batch', 'Training Loss', 'Training Accuracy'])\n",
    "    logs_val = pd.DataFrame(columns=['Epoch', 'Validation Loss', 'Validation Accuracy'])\n",
    "\n",
    "    for line in open(log_file, 'r').readlines():\n",
    "        if line.startswith(('Device', 'Number', 'Trigger', 'Best', 'Training', 'Process')) or line == '\\n':\n",
    "            continue\n",
    "        elif line.startswith('Epoch'):\n",
    "            epoch = line.split(':')[1].strip()\n",
    "        elif line.startswith('Batch'):\n",
    "            splitted_line = re.split('[,:]+', line)\n",
    "            batch, train_loss, train_acc = splitted_line[1].strip(), splitted_line[3].strip(), splitted_line[5].strip()\n",
    "            new_row = pd.DataFrame([{'Epoch': epoch, 'Batch': batch, 'Training Loss': train_loss, 'Training Accuracy': train_acc}])\n",
    "            logs_train = pd.concat([logs_train, new_row], ignore_index=True)\n",
    "        elif line.startswith('Validation'):\n",
    "            splitted_line = re.split('[,:]+', line)\n",
    "            val_loss, val_acc = splitted_line[1].strip(), splitted_line[3].strip()\n",
    "            new_row = pd.DataFrame([{'Epoch': epoch, 'Validation Loss': val_loss, 'Validation Accuracy': val_acc}])\n",
    "            logs_val = pd.concat([logs_val, new_row], ignore_index=True)\n",
    "        else:\n",
    "            print(f'Unexpected line found in {log_file}: {line}')\n",
    "\n",
    "    logs_train.to_csv(f'{training_dir}/{log_file.split(\"_\")[-3]}_{log_file.split(\"_\")[-2]}_{log_file.split(\"_\")[-1].split(\".\")[0]}_training.csv', index=False)\n",
    "    logs_val.to_csv(f'{training_dir}/{log_file.split(\"_\")[-3]}_{log_file.split(\"_\")[-2]}_{log_file.split(\"_\")[-1].split(\".\")[0]}_validation.csv', index=False)"
   ],
   "metadata": {
    "collapsed": false,
    "pycharm": {
     "name": "#%%\n"
    }
   }
  },
  {
   "cell_type": "code",
   "execution_count": 3,
   "outputs": [],
   "source": [
    "import matplotlib.pyplot as plt\n",
    "import seaborn as sns\n",
    "\n",
    "def create_custom_lineplot(merged, measure, mx, cut, epochs):\n",
    "    plotdata = merged.copy()\n",
    "    fig, ax = plt.subplots(figsize=(16, 8))\n",
    "    sns.lineplot(data=plotdata,\n",
    "                 x='Batch_cont',\n",
    "                 y=measure,\n",
    "                 hue='TYPE')\n",
    "\n",
    "    plt.title(f'Training and Validation {measure} over Time\\n(max sequence length: {mx}k, cutted: {cut.lower()} normalization, epochs: {epochs})', fontsize=22)\n",
    "    ax.set(xlim=(0, 4))\n",
    "    plt.xlabel('Epoch', fontsize=18)\n",
    "    plt.ylabel(measure, fontsize=18)\n",
    "    ax.set_xticks(plotdata[plotdata['TYPE'] == 'Validation']['Batch_cont'].tolist(), plotdata['Epoch'].astype(int).unique(), fontsize=14)\n",
    "    plt.yticks(fontsize=14)\n",
    "    plt.rcParams['legend.title_fontsize'] = 14\n",
    "    ax.legend(title=f'{measure} of', fontsize=14, loc='upper left', bbox_to_anchor=(1, 1))\n",
    "\n",
    "    plt.tight_layout()\n",
    "    plt.savefig(f'../plots/max{mx}_cut{cut}_epochs{epochs}_{measure.lower()}_over_time.png', dpi=300, facecolor='white', edgecolor='none')\n",
    "    plt.close()"
   ],
   "metadata": {
    "collapsed": false,
    "pycharm": {
     "name": "#%%\n"
    }
   }
  },
  {
   "cell_type": "code",
   "execution_count": 4,
   "outputs": [],
   "source": [
    "import numpy as np\n",
    "import pandas as pd\n",
    "\n",
    "from sympy import divisors\n",
    "\n",
    "best_models = pd.DataFrame(columns=['Maximum Sequence Length', 'Cutting Method', 'Number of Epochs', 'Epoch', 'Loss', 'Accuracy'])\n",
    "means = pd.DataFrame(columns=['Maximum Sequence Length', 'Cutting Method', 'Number of Epochs', 'Type', 'Epoch', 'Mean Loss', 'Mean Accuracy'])\n",
    "\n",
    "for mx in [4, 6, 8]:\n",
    "    for cut in ['Before', 'After']:\n",
    "        for epochs in [5, 15]:\n",
    "            # get dataframes with loss and accuracy\n",
    "            current_logs_train = pd.read_csv(f'{training_dir}/max{mx}_cut{cut}_{epochs}epochs_training.csv')\n",
    "            current_logs_val = pd.read_csv(f'{training_dir}/max{mx}_cut{cut}_{epochs}epochs_validation.csv')\n",
    "\n",
    "            # extract and store best model (based on validation accuracy)\n",
    "            current_bm = current_logs_val.iloc[current_logs_val['Validation Accuracy'].idxmax()]\n",
    "            best_models = pd.concat([best_models,\n",
    "                                     pd.DataFrame({'Maximum Sequence Length': [mx],\n",
    "                                                   'Cutting Method': [cut],\n",
    "                                                   'Number of Epochs': [epochs],\n",
    "                                                   'Epoch': [int(current_bm['Epoch'])],\n",
    "                                                   'Loss': [current_bm['Validation Loss']],\n",
    "                                                   'Accuracy': [current_bm['Validation Accuracy']]})],\n",
    "                                    ignore_index=True)\n",
    "\n",
    "            # extract mean statistics per epoch\n",
    "            means_train = current_logs_train.groupby('Epoch')[['Training Loss', 'Training Accuracy']].mean()\n",
    "            means_val = current_logs_val.groupby('Epoch')[['Validation Loss', 'Validation Accuracy']].mean()\n",
    "\n",
    "            # store mean statistics per epoch\n",
    "            for ep, (loss, acc) in enumerate(means_train.values):\n",
    "                means = pd.concat([means,\n",
    "                                   pd.DataFrame({'Maximum Sequence Length': [mx],\n",
    "                                                 'Cutting Method': [cut],\n",
    "                                                 'Number of Epochs': [epochs],\n",
    "                                                 'Type': ['Training'],\n",
    "                                                 'Epoch': [ep],\n",
    "                                                 'Mean Loss': [loss],\n",
    "                                                 'Mean Accuracy': [acc]})],\n",
    "                                  ignore_index=True)\n",
    "            for ep, (loss, acc) in enumerate(means_val.values):\n",
    "                means = pd.concat([means,\n",
    "                                   pd.DataFrame({'Maximum Sequence Length': [mx],\n",
    "                                                 'Cutting Method': [cut],\n",
    "                                                 'Number of Epochs': [epochs],\n",
    "                                                 'Type': ['Validation'],\n",
    "                                                 'Epoch': [ep],\n",
    "                                                 'Mean Loss': [loss],\n",
    "                                                 'Mean Accuracy': [acc]})],\n",
    "                                  ignore_index=True)\n",
    "\n",
    "            # prepare smoothing of line plot (e.g. combine_factor = 3 means to average 3 consecutive row values to one new number)\n",
    "            n_batches = current_logs_train['Batch'].nunique()\n",
    "            divs = divisors(n_batches)\n",
    "            combine_factor = next(d for d in divs if d > 60)\n",
    "            current_logs_train_reduced = current_logs_train.groupby(np.arange(len(current_logs_train))//combine_factor).mean()\n",
    "\n",
    "            # prepare dataframe with training logs for merging\n",
    "            current_logs_train_reduced.columns = current_logs_train_reduced.columns.str.lstrip('Training ')\n",
    "            current_logs_train_reduced['TYPE'] = 'Training'\n",
    "\n",
    "            # prepare dataframe with validation logs for merging\n",
    "            current_logs_val['Batch'] = n_batches - 1\n",
    "            current_logs_val.columns = current_logs_val.columns.str.lstrip('Validation ')\n",
    "            current_logs_val['TYPE'] = 'Validation'\n",
    "\n",
    "            # merge both dataframes for easier plotting\n",
    "            current_merged = pd.concat([current_logs_train_reduced, current_logs_val], ignore_index=True)\n",
    "            current_merged['Batch_cont'] = current_merged.apply(lambda row: row['Batch'] * (row['Epoch'] + 1), axis=1)\n",
    "\n",
    "            # plot loss and accuracy over time\n",
    "            for measure in ['Loss', 'Accuracy']:\n",
    "                create_custom_lineplot(current_merged, measure, mx, cut, epochs)\n",
    "\n",
    "best_models.to_csv('../data/best_models.csv', index=False)\n",
    "means.to_csv('../data/means.csv', index=False)"
   ],
   "metadata": {
    "collapsed": false,
    "pycharm": {
     "name": "#%%\n"
    }
   }
  },
  {
   "cell_type": "code",
   "execution_count": 5,
   "outputs": [
    {
     "data": {
      "text/plain": "    Maximum Sequence Length Cutting Method  Number of Epochs  Epoch      Loss  \\\n0                         4         Before                 5      0  0.233314   \n1                         4         Before                15      0  0.233185   \n2                         4          After                 5      1  0.227655   \n3                         4          After                15      1  0.228414   \n4                         6         Before                 5      4  0.224448   \n5                         6         Before                15     13  0.215062   \n6                         6          After                 5      0  0.240566   \n7                         6          After                15      9  0.218368   \n8                         8         Before                 5      4  0.233898   \n9                         8         Before                15     13  0.216200   \n10                        8          After                 5      4  0.239465   \n11                        8          After                15     13  0.217241   \n\n     Accuracy  \n0   93.614047  \n1   93.617026  \n2   93.613196  \n3   93.614047  \n4   93.014888  \n5   93.162330  \n6   93.023260  \n7   93.066516  \n8   92.360004  \n9   92.821030  \n10  92.292312  \n11  92.714363  ",
      "text/html": "<div>\n<style scoped>\n    .dataframe tbody tr th:only-of-type {\n        vertical-align: middle;\n    }\n\n    .dataframe tbody tr th {\n        vertical-align: top;\n    }\n\n    .dataframe thead th {\n        text-align: right;\n    }\n</style>\n<table border=\"1\" class=\"dataframe\">\n  <thead>\n    <tr style=\"text-align: right;\">\n      <th></th>\n      <th>Maximum Sequence Length</th>\n      <th>Cutting Method</th>\n      <th>Number of Epochs</th>\n      <th>Epoch</th>\n      <th>Loss</th>\n      <th>Accuracy</th>\n    </tr>\n  </thead>\n  <tbody>\n    <tr>\n      <th>0</th>\n      <td>4</td>\n      <td>Before</td>\n      <td>5</td>\n      <td>0</td>\n      <td>0.233314</td>\n      <td>93.614047</td>\n    </tr>\n    <tr>\n      <th>1</th>\n      <td>4</td>\n      <td>Before</td>\n      <td>15</td>\n      <td>0</td>\n      <td>0.233185</td>\n      <td>93.617026</td>\n    </tr>\n    <tr>\n      <th>2</th>\n      <td>4</td>\n      <td>After</td>\n      <td>5</td>\n      <td>1</td>\n      <td>0.227655</td>\n      <td>93.613196</td>\n    </tr>\n    <tr>\n      <th>3</th>\n      <td>4</td>\n      <td>After</td>\n      <td>15</td>\n      <td>1</td>\n      <td>0.228414</td>\n      <td>93.614047</td>\n    </tr>\n    <tr>\n      <th>4</th>\n      <td>6</td>\n      <td>Before</td>\n      <td>5</td>\n      <td>4</td>\n      <td>0.224448</td>\n      <td>93.014888</td>\n    </tr>\n    <tr>\n      <th>5</th>\n      <td>6</td>\n      <td>Before</td>\n      <td>15</td>\n      <td>13</td>\n      <td>0.215062</td>\n      <td>93.162330</td>\n    </tr>\n    <tr>\n      <th>6</th>\n      <td>6</td>\n      <td>After</td>\n      <td>5</td>\n      <td>0</td>\n      <td>0.240566</td>\n      <td>93.023260</td>\n    </tr>\n    <tr>\n      <th>7</th>\n      <td>6</td>\n      <td>After</td>\n      <td>15</td>\n      <td>9</td>\n      <td>0.218368</td>\n      <td>93.066516</td>\n    </tr>\n    <tr>\n      <th>8</th>\n      <td>8</td>\n      <td>Before</td>\n      <td>5</td>\n      <td>4</td>\n      <td>0.233898</td>\n      <td>92.360004</td>\n    </tr>\n    <tr>\n      <th>9</th>\n      <td>8</td>\n      <td>Before</td>\n      <td>15</td>\n      <td>13</td>\n      <td>0.216200</td>\n      <td>92.821030</td>\n    </tr>\n    <tr>\n      <th>10</th>\n      <td>8</td>\n      <td>After</td>\n      <td>5</td>\n      <td>4</td>\n      <td>0.239465</td>\n      <td>92.292312</td>\n    </tr>\n    <tr>\n      <th>11</th>\n      <td>8</td>\n      <td>After</td>\n      <td>15</td>\n      <td>13</td>\n      <td>0.217241</td>\n      <td>92.714363</td>\n    </tr>\n  </tbody>\n</table>\n</div>"
     },
     "execution_count": 5,
     "metadata": {},
     "output_type": "execute_result"
    }
   ],
   "source": [
    "import pandas as pd\n",
    "\n",
    "# lookup best models\n",
    "b = pd.read_csv('../data/best_models.csv')\n",
    "b"
   ],
   "metadata": {
    "collapsed": false,
    "pycharm": {
     "name": "#%%\n"
    }
   }
  },
  {
   "cell_type": "code",
   "execution_count": 6,
   "outputs": [
    {
     "data": {
      "text/plain": "   Maximum Sequence Length Cutting Method  Number of Epochs  Epoch      Loss  \\\n0                        4         Before                 5      0  0.233314   \n1                        4         Before                15      0  0.233185   \n\n    Accuracy  \n0  93.614047  \n1  93.617026  ",
      "text/html": "<div>\n<style scoped>\n    .dataframe tbody tr th:only-of-type {\n        vertical-align: middle;\n    }\n\n    .dataframe tbody tr th {\n        vertical-align: top;\n    }\n\n    .dataframe thead th {\n        text-align: right;\n    }\n</style>\n<table border=\"1\" class=\"dataframe\">\n  <thead>\n    <tr style=\"text-align: right;\">\n      <th></th>\n      <th>Maximum Sequence Length</th>\n      <th>Cutting Method</th>\n      <th>Number of Epochs</th>\n      <th>Epoch</th>\n      <th>Loss</th>\n      <th>Accuracy</th>\n    </tr>\n  </thead>\n  <tbody>\n    <tr>\n      <th>0</th>\n      <td>4</td>\n      <td>Before</td>\n      <td>5</td>\n      <td>0</td>\n      <td>0.233314</td>\n      <td>93.614047</td>\n    </tr>\n    <tr>\n      <th>1</th>\n      <td>4</td>\n      <td>Before</td>\n      <td>15</td>\n      <td>0</td>\n      <td>0.233185</td>\n      <td>93.617026</td>\n    </tr>\n  </tbody>\n</table>\n</div>"
     },
     "execution_count": 6,
     "metadata": {},
     "output_type": "execute_result"
    }
   ],
   "source": [
    "b[(b['Maximum Sequence Length'] == 4) & (b['Cutting Method'] == 'Before')]"
   ],
   "metadata": {
    "collapsed": false,
    "pycharm": {
     "name": "#%%\n"
    }
   }
  },
  {
   "cell_type": "code",
   "execution_count": 7,
   "outputs": [
    {
     "data": {
      "text/plain": "     Maximum Sequence Length Cutting Method  Number of Epochs        Type  \\\n0                          4         Before                 5    Training   \n1                          4         Before                 5    Training   \n2                          4         Before                 5    Training   \n3                          4         Before                 5    Training   \n4                          4         Before                 5    Training   \n..                       ...            ...               ...         ...   \n235                        8          After                15  Validation   \n236                        8          After                15  Validation   \n237                        8          After                15  Validation   \n238                        8          After                15  Validation   \n239                        8          After                15  Validation   \n\n     Epoch  Mean Loss  Mean Accuracy  \n0        0   0.244986      93.092312  \n1        1   0.236480      93.101967  \n2        2   0.232124      93.106371  \n3        3   0.228446      93.110349  \n4        4   0.225247      93.124355  \n..     ...        ...            ...  \n235     10   0.223671      92.517440  \n236     11   0.220612      92.571799  \n237     12   0.220124      92.447184  \n238     13   0.217241      92.714363  \n239     14   0.218501      92.593851  \n\n[240 rows x 7 columns]",
      "text/html": "<div>\n<style scoped>\n    .dataframe tbody tr th:only-of-type {\n        vertical-align: middle;\n    }\n\n    .dataframe tbody tr th {\n        vertical-align: top;\n    }\n\n    .dataframe thead th {\n        text-align: right;\n    }\n</style>\n<table border=\"1\" class=\"dataframe\">\n  <thead>\n    <tr style=\"text-align: right;\">\n      <th></th>\n      <th>Maximum Sequence Length</th>\n      <th>Cutting Method</th>\n      <th>Number of Epochs</th>\n      <th>Type</th>\n      <th>Epoch</th>\n      <th>Mean Loss</th>\n      <th>Mean Accuracy</th>\n    </tr>\n  </thead>\n  <tbody>\n    <tr>\n      <th>0</th>\n      <td>4</td>\n      <td>Before</td>\n      <td>5</td>\n      <td>Training</td>\n      <td>0</td>\n      <td>0.244986</td>\n      <td>93.092312</td>\n    </tr>\n    <tr>\n      <th>1</th>\n      <td>4</td>\n      <td>Before</td>\n      <td>5</td>\n      <td>Training</td>\n      <td>1</td>\n      <td>0.236480</td>\n      <td>93.101967</td>\n    </tr>\n    <tr>\n      <th>2</th>\n      <td>4</td>\n      <td>Before</td>\n      <td>5</td>\n      <td>Training</td>\n      <td>2</td>\n      <td>0.232124</td>\n      <td>93.106371</td>\n    </tr>\n    <tr>\n      <th>3</th>\n      <td>4</td>\n      <td>Before</td>\n      <td>5</td>\n      <td>Training</td>\n      <td>3</td>\n      <td>0.228446</td>\n      <td>93.110349</td>\n    </tr>\n    <tr>\n      <th>4</th>\n      <td>4</td>\n      <td>Before</td>\n      <td>5</td>\n      <td>Training</td>\n      <td>4</td>\n      <td>0.225247</td>\n      <td>93.124355</td>\n    </tr>\n    <tr>\n      <th>...</th>\n      <td>...</td>\n      <td>...</td>\n      <td>...</td>\n      <td>...</td>\n      <td>...</td>\n      <td>...</td>\n      <td>...</td>\n    </tr>\n    <tr>\n      <th>235</th>\n      <td>8</td>\n      <td>After</td>\n      <td>15</td>\n      <td>Validation</td>\n      <td>10</td>\n      <td>0.223671</td>\n      <td>92.517440</td>\n    </tr>\n    <tr>\n      <th>236</th>\n      <td>8</td>\n      <td>After</td>\n      <td>15</td>\n      <td>Validation</td>\n      <td>11</td>\n      <td>0.220612</td>\n      <td>92.571799</td>\n    </tr>\n    <tr>\n      <th>237</th>\n      <td>8</td>\n      <td>After</td>\n      <td>15</td>\n      <td>Validation</td>\n      <td>12</td>\n      <td>0.220124</td>\n      <td>92.447184</td>\n    </tr>\n    <tr>\n      <th>238</th>\n      <td>8</td>\n      <td>After</td>\n      <td>15</td>\n      <td>Validation</td>\n      <td>13</td>\n      <td>0.217241</td>\n      <td>92.714363</td>\n    </tr>\n    <tr>\n      <th>239</th>\n      <td>8</td>\n      <td>After</td>\n      <td>15</td>\n      <td>Validation</td>\n      <td>14</td>\n      <td>0.218501</td>\n      <td>92.593851</td>\n    </tr>\n  </tbody>\n</table>\n<p>240 rows × 7 columns</p>\n</div>"
     },
     "execution_count": 7,
     "metadata": {},
     "output_type": "execute_result"
    }
   ],
   "source": [
    "import pandas as pd\n",
    "\n",
    "# lookup mean statistics\n",
    "m = pd.read_csv('../data/means.csv')\n",
    "m"
   ],
   "metadata": {
    "collapsed": false,
    "pycharm": {
     "name": "#%%\n"
    }
   }
  },
  {
   "cell_type": "code",
   "execution_count": 8,
   "outputs": [
    {
     "data": {
      "text/plain": "    Maximum Sequence Length Cutting Method  Number of Epochs      Type  Epoch  \\\n0                         4         Before                 5  Training      0   \n1                         4         Before                 5  Training      1   \n2                         4         Before                 5  Training      2   \n3                         4         Before                 5  Training      3   \n4                         4         Before                 5  Training      4   \n10                        4         Before                15  Training      0   \n11                        4         Before                15  Training      1   \n12                        4         Before                15  Training      2   \n13                        4         Before                15  Training      3   \n14                        4         Before                15  Training      4   \n15                        4         Before                15  Training      5   \n16                        4         Before                15  Training      6   \n17                        4         Before                15  Training      7   \n18                        4         Before                15  Training      8   \n19                        4         Before                15  Training      9   \n20                        4         Before                15  Training     10   \n21                        4         Before                15  Training     11   \n22                        4         Before                15  Training     12   \n23                        4         Before                15  Training     13   \n24                        4         Before                15  Training     14   \n40                        4          After                 5  Training      0   \n41                        4          After                 5  Training      1   \n42                        4          After                 5  Training      2   \n43                        4          After                 5  Training      3   \n44                        4          After                 5  Training      4   \n50                        4          After                15  Training      0   \n51                        4          After                15  Training      1   \n52                        4          After                15  Training      2   \n53                        4          After                15  Training      3   \n54                        4          After                15  Training      4   \n55                        4          After                15  Training      5   \n56                        4          After                15  Training      6   \n57                        4          After                15  Training      7   \n58                        4          After                15  Training      8   \n59                        4          After                15  Training      9   \n60                        4          After                15  Training     10   \n61                        4          After                15  Training     11   \n62                        4          After                15  Training     12   \n63                        4          After                15  Training     13   \n64                        4          After                15  Training     14   \n\n    Mean Loss  Mean Accuracy  \n0    0.244986      93.092312  \n1    0.236480      93.101967  \n2    0.232124      93.106371  \n3    0.228446      93.110349  \n4    0.225247      93.124355  \n10   0.246818      93.102179  \n11   0.238504      93.102073  \n12   0.233792      93.101225  \n13   0.230273      93.105681  \n14   0.227088      93.115866  \n15   0.224078      93.131569  \n16   0.221020      93.147909  \n17   0.218252      93.174275  \n18   0.215721      93.208333  \n19   0.213195      93.242710  \n20   0.210564      93.284248  \n21   0.208237      93.332737  \n22   0.206047      93.378148  \n23   0.203734      93.422339  \n24   0.201511      93.473850  \n40   0.246852      93.103400  \n41   0.238792      93.103134  \n42   0.233614      93.103293  \n43   0.229748      93.105734  \n44   0.226491      93.117670  \n50   0.246586      93.088068  \n51   0.238427      93.101596  \n52   0.234725      93.101278  \n53   0.231658      93.104301  \n54   0.228775      93.108917  \n55   0.225958      93.124408  \n56   0.223241      93.140163  \n57   0.220651      93.159474  \n58   0.218099      93.187856  \n59   0.215612      93.218572  \n60   0.213392      93.252206  \n61   0.210931      93.288386  \n62   0.208614      93.336079  \n63   0.206584      93.374752  \n64   0.204379      93.423400  ",
      "text/html": "<div>\n<style scoped>\n    .dataframe tbody tr th:only-of-type {\n        vertical-align: middle;\n    }\n\n    .dataframe tbody tr th {\n        vertical-align: top;\n    }\n\n    .dataframe thead th {\n        text-align: right;\n    }\n</style>\n<table border=\"1\" class=\"dataframe\">\n  <thead>\n    <tr style=\"text-align: right;\">\n      <th></th>\n      <th>Maximum Sequence Length</th>\n      <th>Cutting Method</th>\n      <th>Number of Epochs</th>\n      <th>Type</th>\n      <th>Epoch</th>\n      <th>Mean Loss</th>\n      <th>Mean Accuracy</th>\n    </tr>\n  </thead>\n  <tbody>\n    <tr>\n      <th>0</th>\n      <td>4</td>\n      <td>Before</td>\n      <td>5</td>\n      <td>Training</td>\n      <td>0</td>\n      <td>0.244986</td>\n      <td>93.092312</td>\n    </tr>\n    <tr>\n      <th>1</th>\n      <td>4</td>\n      <td>Before</td>\n      <td>5</td>\n      <td>Training</td>\n      <td>1</td>\n      <td>0.236480</td>\n      <td>93.101967</td>\n    </tr>\n    <tr>\n      <th>2</th>\n      <td>4</td>\n      <td>Before</td>\n      <td>5</td>\n      <td>Training</td>\n      <td>2</td>\n      <td>0.232124</td>\n      <td>93.106371</td>\n    </tr>\n    <tr>\n      <th>3</th>\n      <td>4</td>\n      <td>Before</td>\n      <td>5</td>\n      <td>Training</td>\n      <td>3</td>\n      <td>0.228446</td>\n      <td>93.110349</td>\n    </tr>\n    <tr>\n      <th>4</th>\n      <td>4</td>\n      <td>Before</td>\n      <td>5</td>\n      <td>Training</td>\n      <td>4</td>\n      <td>0.225247</td>\n      <td>93.124355</td>\n    </tr>\n    <tr>\n      <th>10</th>\n      <td>4</td>\n      <td>Before</td>\n      <td>15</td>\n      <td>Training</td>\n      <td>0</td>\n      <td>0.246818</td>\n      <td>93.102179</td>\n    </tr>\n    <tr>\n      <th>11</th>\n      <td>4</td>\n      <td>Before</td>\n      <td>15</td>\n      <td>Training</td>\n      <td>1</td>\n      <td>0.238504</td>\n      <td>93.102073</td>\n    </tr>\n    <tr>\n      <th>12</th>\n      <td>4</td>\n      <td>Before</td>\n      <td>15</td>\n      <td>Training</td>\n      <td>2</td>\n      <td>0.233792</td>\n      <td>93.101225</td>\n    </tr>\n    <tr>\n      <th>13</th>\n      <td>4</td>\n      <td>Before</td>\n      <td>15</td>\n      <td>Training</td>\n      <td>3</td>\n      <td>0.230273</td>\n      <td>93.105681</td>\n    </tr>\n    <tr>\n      <th>14</th>\n      <td>4</td>\n      <td>Before</td>\n      <td>15</td>\n      <td>Training</td>\n      <td>4</td>\n      <td>0.227088</td>\n      <td>93.115866</td>\n    </tr>\n    <tr>\n      <th>15</th>\n      <td>4</td>\n      <td>Before</td>\n      <td>15</td>\n      <td>Training</td>\n      <td>5</td>\n      <td>0.224078</td>\n      <td>93.131569</td>\n    </tr>\n    <tr>\n      <th>16</th>\n      <td>4</td>\n      <td>Before</td>\n      <td>15</td>\n      <td>Training</td>\n      <td>6</td>\n      <td>0.221020</td>\n      <td>93.147909</td>\n    </tr>\n    <tr>\n      <th>17</th>\n      <td>4</td>\n      <td>Before</td>\n      <td>15</td>\n      <td>Training</td>\n      <td>7</td>\n      <td>0.218252</td>\n      <td>93.174275</td>\n    </tr>\n    <tr>\n      <th>18</th>\n      <td>4</td>\n      <td>Before</td>\n      <td>15</td>\n      <td>Training</td>\n      <td>8</td>\n      <td>0.215721</td>\n      <td>93.208333</td>\n    </tr>\n    <tr>\n      <th>19</th>\n      <td>4</td>\n      <td>Before</td>\n      <td>15</td>\n      <td>Training</td>\n      <td>9</td>\n      <td>0.213195</td>\n      <td>93.242710</td>\n    </tr>\n    <tr>\n      <th>20</th>\n      <td>4</td>\n      <td>Before</td>\n      <td>15</td>\n      <td>Training</td>\n      <td>10</td>\n      <td>0.210564</td>\n      <td>93.284248</td>\n    </tr>\n    <tr>\n      <th>21</th>\n      <td>4</td>\n      <td>Before</td>\n      <td>15</td>\n      <td>Training</td>\n      <td>11</td>\n      <td>0.208237</td>\n      <td>93.332737</td>\n    </tr>\n    <tr>\n      <th>22</th>\n      <td>4</td>\n      <td>Before</td>\n      <td>15</td>\n      <td>Training</td>\n      <td>12</td>\n      <td>0.206047</td>\n      <td>93.378148</td>\n    </tr>\n    <tr>\n      <th>23</th>\n      <td>4</td>\n      <td>Before</td>\n      <td>15</td>\n      <td>Training</td>\n      <td>13</td>\n      <td>0.203734</td>\n      <td>93.422339</td>\n    </tr>\n    <tr>\n      <th>24</th>\n      <td>4</td>\n      <td>Before</td>\n      <td>15</td>\n      <td>Training</td>\n      <td>14</td>\n      <td>0.201511</td>\n      <td>93.473850</td>\n    </tr>\n    <tr>\n      <th>40</th>\n      <td>4</td>\n      <td>After</td>\n      <td>5</td>\n      <td>Training</td>\n      <td>0</td>\n      <td>0.246852</td>\n      <td>93.103400</td>\n    </tr>\n    <tr>\n      <th>41</th>\n      <td>4</td>\n      <td>After</td>\n      <td>5</td>\n      <td>Training</td>\n      <td>1</td>\n      <td>0.238792</td>\n      <td>93.103134</td>\n    </tr>\n    <tr>\n      <th>42</th>\n      <td>4</td>\n      <td>After</td>\n      <td>5</td>\n      <td>Training</td>\n      <td>2</td>\n      <td>0.233614</td>\n      <td>93.103293</td>\n    </tr>\n    <tr>\n      <th>43</th>\n      <td>4</td>\n      <td>After</td>\n      <td>5</td>\n      <td>Training</td>\n      <td>3</td>\n      <td>0.229748</td>\n      <td>93.105734</td>\n    </tr>\n    <tr>\n      <th>44</th>\n      <td>4</td>\n      <td>After</td>\n      <td>5</td>\n      <td>Training</td>\n      <td>4</td>\n      <td>0.226491</td>\n      <td>93.117670</td>\n    </tr>\n    <tr>\n      <th>50</th>\n      <td>4</td>\n      <td>After</td>\n      <td>15</td>\n      <td>Training</td>\n      <td>0</td>\n      <td>0.246586</td>\n      <td>93.088068</td>\n    </tr>\n    <tr>\n      <th>51</th>\n      <td>4</td>\n      <td>After</td>\n      <td>15</td>\n      <td>Training</td>\n      <td>1</td>\n      <td>0.238427</td>\n      <td>93.101596</td>\n    </tr>\n    <tr>\n      <th>52</th>\n      <td>4</td>\n      <td>After</td>\n      <td>15</td>\n      <td>Training</td>\n      <td>2</td>\n      <td>0.234725</td>\n      <td>93.101278</td>\n    </tr>\n    <tr>\n      <th>53</th>\n      <td>4</td>\n      <td>After</td>\n      <td>15</td>\n      <td>Training</td>\n      <td>3</td>\n      <td>0.231658</td>\n      <td>93.104301</td>\n    </tr>\n    <tr>\n      <th>54</th>\n      <td>4</td>\n      <td>After</td>\n      <td>15</td>\n      <td>Training</td>\n      <td>4</td>\n      <td>0.228775</td>\n      <td>93.108917</td>\n    </tr>\n    <tr>\n      <th>55</th>\n      <td>4</td>\n      <td>After</td>\n      <td>15</td>\n      <td>Training</td>\n      <td>5</td>\n      <td>0.225958</td>\n      <td>93.124408</td>\n    </tr>\n    <tr>\n      <th>56</th>\n      <td>4</td>\n      <td>After</td>\n      <td>15</td>\n      <td>Training</td>\n      <td>6</td>\n      <td>0.223241</td>\n      <td>93.140163</td>\n    </tr>\n    <tr>\n      <th>57</th>\n      <td>4</td>\n      <td>After</td>\n      <td>15</td>\n      <td>Training</td>\n      <td>7</td>\n      <td>0.220651</td>\n      <td>93.159474</td>\n    </tr>\n    <tr>\n      <th>58</th>\n      <td>4</td>\n      <td>After</td>\n      <td>15</td>\n      <td>Training</td>\n      <td>8</td>\n      <td>0.218099</td>\n      <td>93.187856</td>\n    </tr>\n    <tr>\n      <th>59</th>\n      <td>4</td>\n      <td>After</td>\n      <td>15</td>\n      <td>Training</td>\n      <td>9</td>\n      <td>0.215612</td>\n      <td>93.218572</td>\n    </tr>\n    <tr>\n      <th>60</th>\n      <td>4</td>\n      <td>After</td>\n      <td>15</td>\n      <td>Training</td>\n      <td>10</td>\n      <td>0.213392</td>\n      <td>93.252206</td>\n    </tr>\n    <tr>\n      <th>61</th>\n      <td>4</td>\n      <td>After</td>\n      <td>15</td>\n      <td>Training</td>\n      <td>11</td>\n      <td>0.210931</td>\n      <td>93.288386</td>\n    </tr>\n    <tr>\n      <th>62</th>\n      <td>4</td>\n      <td>After</td>\n      <td>15</td>\n      <td>Training</td>\n      <td>12</td>\n      <td>0.208614</td>\n      <td>93.336079</td>\n    </tr>\n    <tr>\n      <th>63</th>\n      <td>4</td>\n      <td>After</td>\n      <td>15</td>\n      <td>Training</td>\n      <td>13</td>\n      <td>0.206584</td>\n      <td>93.374752</td>\n    </tr>\n    <tr>\n      <th>64</th>\n      <td>4</td>\n      <td>After</td>\n      <td>15</td>\n      <td>Training</td>\n      <td>14</td>\n      <td>0.204379</td>\n      <td>93.423400</td>\n    </tr>\n  </tbody>\n</table>\n</div>"
     },
     "execution_count": 8,
     "metadata": {},
     "output_type": "execute_result"
    }
   ],
   "source": [
    "m[(m['Maximum Sequence Length'] == 4) & (m['Type'] == 'Training')]"
   ],
   "metadata": {
    "collapsed": false,
    "pycharm": {
     "name": "#%%\n"
    }
   }
  }
 ],
 "metadata": {
  "kernelspec": {
   "display_name": "Python 3",
   "language": "python",
   "name": "python3"
  },
  "language_info": {
   "codemirror_mode": {
    "name": "ipython",
    "version": 2
   },
   "file_extension": ".py",
   "mimetype": "text/x-python",
   "name": "python",
   "nbconvert_exporter": "python",
   "pygments_lexer": "ipython2",
   "version": "2.7.6"
  }
 },
 "nbformat": 4,
 "nbformat_minor": 0
}